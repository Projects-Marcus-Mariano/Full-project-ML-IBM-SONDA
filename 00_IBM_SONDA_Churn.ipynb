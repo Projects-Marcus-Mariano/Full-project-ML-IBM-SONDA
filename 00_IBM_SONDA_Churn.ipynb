{
 "cells": [
  {
   "cell_type": "markdown",
   "id": "9b198a7a",
   "metadata": {},
   "source": [
    "<font  size=\"5\" color=\"green\"><strong>Maratona Behind The Code 2021</strong></font>\n",
    "\n",
    "<a name=\"index\"></a>\n",
    "\n",
    "## Desafio 05 | SONDA\n",
    "\n",
    "**For more information about Marcus Mariano: [Web site](https://marcusmariano.github.io/mmariano/)**  \n",
    "\n",
    "**Desafio 05 | SONDA: [GitHub](https://github.com/maratonadev/desafio-5-2021/blob/main/doc/instructions/pt.md#desafio-05--sonda)**"
   ]
  },
  {
   "cell_type": "markdown",
   "id": "61f5d83d",
   "metadata": {},
   "source": [
    "## Introdução\n",
    "\n",
    "Esse artigo foi desenvolvido para mostrar a aplicação do fluxo de trabalho de __Machine Learning__ em um projeto do mundo real.\n",
    "\n",
    "## O Desafio\n",
    "\n",
    "Esse projeto foi baseado no Desafio 05 | SONDA da Maratona Behind The Code 2021. \n",
    "\n",
    "__Desafio de negócio__\n",
    "\n",
    "\"O desafio consiste em um problema comum na área de Ciência de Dados. Um cliente expõe um problema específico de sua área e através da sua análise encontrar uma possível solução. Um cliente da área Telecomunicações reportou problema de perda de clientes (__Churn__) e gostaria de conseguir identificar essa possível perda antes que ela ocorra, por meio de inteligência artificial.\"\n",
    "\n",
    "__Objetivo__\n",
    "\n",
    "“O desafio consiste de implementar um algoritmo de Machine Learning para __classificação binária__, capaz de identificar se um cliente será perdido ou não.”\n",
    "\n",
    "## Churn\n",
    "\n",
    "São conhecidos como __Churn__ os problemas da área de negócios que tratam da saída de clientes da base de negócio. Gerando preocupação nos negócios de elevada aquisição de clientes, impactando nas vendas e podendo desequilibra o fluxo de caixa da empresa, etc."
   ]
  },
  {
   "cell_type": "markdown",
   "id": "93f6eaed",
   "metadata": {},
   "source": [
    "## Import Packages\n",
    "\n",
    "Fazendo a importação dos principais pacotes do python"
   ]
  },
  {
   "cell_type": "code",
   "execution_count": 1,
   "id": "ebb6a904",
   "metadata": {},
   "outputs": [],
   "source": [
    "import pandas as pd\n",
    "import numpy as np\n",
    "\n",
    "from tqdm.notebook import tqdm\n",
    "\n",
    "from matplotlib import pyplot as plt\n",
    "import seaborn as sns\n",
    "\n",
    "sns.set(style=\"darkgrid\", color_codes=True)\n",
    "%matplotlib inline"
   ]
  },
  {
   "cell_type": "code",
   "execution_count": 2,
   "id": "5931ec4b",
   "metadata": {},
   "outputs": [],
   "source": [
    "import warnings\n",
    "warnings.filterwarnings('ignore')\n",
    "warnings.simplefilter('ignore')"
   ]
  },
  {
   "cell_type": "markdown",
   "id": "5d58bef8",
   "metadata": {},
   "source": [
    "## Set parameters\n",
    "\n",
    "Configuração dos principais paramentos para utilização do python, e sklearn (threads, CPU, RAM, seeds...). "
   ]
  },
  {
   "cell_type": "code",
   "execution_count": 3,
   "id": "dcda85ac",
   "metadata": {},
   "outputs": [],
   "source": [
    "N_THREADS = 16 # threads cnt for lgbm and linear models\n",
    "N_FOLDS = 5 # folds cnt for AutoML\n",
    "N_SPLITS = 5 # splits KFolds\n",
    "N_TRIAL = 30 # number os trial of val score, optuna\n",
    "N_JOBS = -1 # -1 means using all processors\n",
    "SEED = 0 # fixed random state for various reasons\n",
    "TEST_SIZE = 0.3 # Test size for metric check\n",
    "VERBOSE = 1\n",
    "EPOCHS = 50\n",
    "TIMEOUT = 600 # Time in seconds for automl run, 600 seconds = 10 minutes\n",
    "RAM = 16 #  Number of RAM limit\n",
    "CPU_LIMIT = 8 # Number of CPU limit\n",
    "TARGET_NAME = 'CHURN'"
   ]
  },
  {
   "cell_type": "markdown",
   "id": "0ce86c1f",
   "metadata": {},
   "source": [
    "## Create directories for project\n",
    "\n",
    "Vamos criar dois diretórios, o diretório __“db/”__ para salvar os arquivos da biblioteca “Optuna” e o diretório __“models/”__ para salvar nosso modelo final."
   ]
  },
  {
   "cell_type": "code",
   "execution_count": 6,
   "id": "c4f2cf9c",
   "metadata": {},
   "outputs": [
    {
     "name": "stdout",
     "output_type": "stream",
     "text": [
      "Successfully created the directory: db/\n",
      "Successfully created the directory: models/\n"
     ]
    }
   ],
   "source": [
    "import os\n",
    "\n",
    "Path = \"\"\n",
    "\n",
    "# define the name of the directory to be created\n",
    "path_db = \"db/\"\n",
    "path_mdl = \"models/\"\n",
    "\n",
    "paths = []\n",
    "paths.append(path_db)\n",
    "paths.append(path_mdl)\n",
    "\n",
    "try:\n",
    "    for path in paths:\n",
    "        os.mkdir(Path+path)\n",
    "except OSError:\n",
    "    for path in paths:\n",
    "        print (f\"Creation of the directory failed: {path} \")\n",
    "else:\n",
    "    for path in paths:\n",
    "        print (f\"Successfully created the directory: {path}\")"
   ]
  },
  {
   "cell_type": "markdown",
   "id": "095b2982",
   "metadata": {},
   "source": [
    "## Load Datasets\n",
    "\n",
    "Ler os bancos de dados de treinamento, validação e teste. No nosso caso são arquivos CSV."
   ]
  },
  {
   "cell_type": "code",
   "execution_count": 4,
   "id": "dc916efe",
   "metadata": {},
   "outputs": [
    {
     "name": "stdout",
     "output_type": "stream",
     "text": [
      "(4548, 21)\n"
     ]
    },
    {
     "data": {
      "text/html": [
       "<div>\n",
       "<style scoped>\n",
       "    .dataframe tbody tr th:only-of-type {\n",
       "        vertical-align: middle;\n",
       "    }\n",
       "\n",
       "    .dataframe tbody tr th {\n",
       "        vertical-align: top;\n",
       "    }\n",
       "\n",
       "    .dataframe thead th {\n",
       "        text-align: right;\n",
       "    }\n",
       "</style>\n",
       "<table border=\"1\" class=\"dataframe\">\n",
       "  <thead>\n",
       "    <tr style=\"text-align: right;\">\n",
       "      <th></th>\n",
       "      <th>ID</th>\n",
       "      <th>GENDER</th>\n",
       "      <th>SENIORCITIZEN</th>\n",
       "      <th>PARTNER</th>\n",
       "      <th>DEPENDENTS</th>\n",
       "      <th>TENURE</th>\n",
       "      <th>PHONESERVICE</th>\n",
       "      <th>MULTIPLELINES</th>\n",
       "      <th>INTERNETSERVICE</th>\n",
       "      <th>ONLINESECURITY</th>\n",
       "      <th>...</th>\n",
       "      <th>DEVICEPROTECTION</th>\n",
       "      <th>TECHSUPPORT</th>\n",
       "      <th>STREAMINGTV</th>\n",
       "      <th>STREAMINGMOVIES</th>\n",
       "      <th>CONTRACT</th>\n",
       "      <th>PAPERLESSBILLING</th>\n",
       "      <th>PAYMENTMETHOD</th>\n",
       "      <th>MONTHLYCHARGES</th>\n",
       "      <th>TOTALCHARGES</th>\n",
       "      <th>CHURN</th>\n",
       "    </tr>\n",
       "  </thead>\n",
       "  <tbody>\n",
       "    <tr>\n",
       "      <th>0</th>\n",
       "      <td>3418</td>\n",
       "      <td>Female</td>\n",
       "      <td>0.0</td>\n",
       "      <td>No</td>\n",
       "      <td>No</td>\n",
       "      <td>26.0</td>\n",
       "      <td>Yes</td>\n",
       "      <td>No</td>\n",
       "      <td>DSL</td>\n",
       "      <td>No</td>\n",
       "      <td>...</td>\n",
       "      <td>Yes</td>\n",
       "      <td>No</td>\n",
       "      <td>No</td>\n",
       "      <td>No</td>\n",
       "      <td>Month-to-month</td>\n",
       "      <td>Yes</td>\n",
       "      <td>Credit card (automatic)</td>\n",
       "      <td>131.55</td>\n",
       "      <td>1483.7</td>\n",
       "      <td>No</td>\n",
       "    </tr>\n",
       "    <tr>\n",
       "      <th>1</th>\n",
       "      <td>6865</td>\n",
       "      <td>Male</td>\n",
       "      <td>0.0</td>\n",
       "      <td>No</td>\n",
       "      <td>No</td>\n",
       "      <td>39.0</td>\n",
       "      <td>Yes</td>\n",
       "      <td>Yes</td>\n",
       "      <td>Fiber optic</td>\n",
       "      <td>No</td>\n",
       "      <td>...</td>\n",
       "      <td>No</td>\n",
       "      <td>No</td>\n",
       "      <td>No</td>\n",
       "      <td>No</td>\n",
       "      <td>Month-to-month</td>\n",
       "      <td>Yes</td>\n",
       "      <td>Credit card (automatic)</td>\n",
       "      <td>79.61</td>\n",
       "      <td>2737.31</td>\n",
       "      <td>No</td>\n",
       "    </tr>\n",
       "    <tr>\n",
       "      <th>2</th>\n",
       "      <td>2799</td>\n",
       "      <td>Male</td>\n",
       "      <td>0.0</td>\n",
       "      <td>No</td>\n",
       "      <td>No</td>\n",
       "      <td>1.0</td>\n",
       "      <td>Yes</td>\n",
       "      <td>No</td>\n",
       "      <td>No</td>\n",
       "      <td>No internet service</td>\n",
       "      <td>...</td>\n",
       "      <td>No internet service</td>\n",
       "      <td>No internet service</td>\n",
       "      <td>No internet service</td>\n",
       "      <td>No internet service</td>\n",
       "      <td>Month-to-month</td>\n",
       "      <td>No</td>\n",
       "      <td>Credit card (automatic)</td>\n",
       "      <td>9.26</td>\n",
       "      <td>9.26</td>\n",
       "      <td>No</td>\n",
       "    </tr>\n",
       "    <tr>\n",
       "      <th>3</th>\n",
       "      <td>1584</td>\n",
       "      <td>Male</td>\n",
       "      <td>0.0</td>\n",
       "      <td>Yes</td>\n",
       "      <td>Yes</td>\n",
       "      <td>66.0</td>\n",
       "      <td>Yes</td>\n",
       "      <td>Yes</td>\n",
       "      <td>No</td>\n",
       "      <td>No internet service</td>\n",
       "      <td>...</td>\n",
       "      <td>No internet service</td>\n",
       "      <td>No internet service</td>\n",
       "      <td>No internet service</td>\n",
       "      <td>No internet service</td>\n",
       "      <td>Two year</td>\n",
       "      <td>Yes</td>\n",
       "      <td>Credit card (automatic)</td>\n",
       "      <td>42.14</td>\n",
       "      <td>1689.19</td>\n",
       "      <td>No</td>\n",
       "    </tr>\n",
       "    <tr>\n",
       "      <th>4</th>\n",
       "      <td>9997</td>\n",
       "      <td>Male</td>\n",
       "      <td>0.0</td>\n",
       "      <td>No</td>\n",
       "      <td>No</td>\n",
       "      <td>56.0</td>\n",
       "      <td>Yes</td>\n",
       "      <td>Yes</td>\n",
       "      <td>Fiber optic</td>\n",
       "      <td>No</td>\n",
       "      <td>...</td>\n",
       "      <td>No</td>\n",
       "      <td>No</td>\n",
       "      <td>Yes</td>\n",
       "      <td>Yes</td>\n",
       "      <td>Month-to-month</td>\n",
       "      <td>No</td>\n",
       "      <td>Electronic check</td>\n",
       "      <td>126.24</td>\n",
       "      <td>5608.69</td>\n",
       "      <td>No</td>\n",
       "    </tr>\n",
       "  </tbody>\n",
       "</table>\n",
       "<p>5 rows × 21 columns</p>\n",
       "</div>"
      ],
      "text/plain": [
       "     ID  GENDER  SENIORCITIZEN PARTNER DEPENDENTS  TENURE PHONESERVICE  \\\n",
       "0  3418  Female            0.0      No         No    26.0          Yes   \n",
       "1  6865    Male            0.0      No         No    39.0          Yes   \n",
       "2  2799    Male            0.0      No         No     1.0          Yes   \n",
       "3  1584    Male            0.0     Yes        Yes    66.0          Yes   \n",
       "4  9997    Male            0.0      No         No    56.0          Yes   \n",
       "\n",
       "  MULTIPLELINES INTERNETSERVICE       ONLINESECURITY  ...  \\\n",
       "0            No             DSL                   No  ...   \n",
       "1           Yes     Fiber optic                   No  ...   \n",
       "2            No              No  No internet service  ...   \n",
       "3           Yes              No  No internet service  ...   \n",
       "4           Yes     Fiber optic                   No  ...   \n",
       "\n",
       "      DEVICEPROTECTION          TECHSUPPORT          STREAMINGTV  \\\n",
       "0                  Yes                   No                   No   \n",
       "1                   No                   No                   No   \n",
       "2  No internet service  No internet service  No internet service   \n",
       "3  No internet service  No internet service  No internet service   \n",
       "4                   No                   No                  Yes   \n",
       "\n",
       "       STREAMINGMOVIES        CONTRACT PAPERLESSBILLING  \\\n",
       "0                   No  Month-to-month              Yes   \n",
       "1                   No  Month-to-month              Yes   \n",
       "2  No internet service  Month-to-month               No   \n",
       "3  No internet service        Two year              Yes   \n",
       "4                  Yes  Month-to-month               No   \n",
       "\n",
       "             PAYMENTMETHOD MONTHLYCHARGES  TOTALCHARGES CHURN  \n",
       "0  Credit card (automatic)         131.55        1483.7    No  \n",
       "1  Credit card (automatic)          79.61       2737.31    No  \n",
       "2  Credit card (automatic)           9.26          9.26    No  \n",
       "3  Credit card (automatic)          42.14       1689.19    No  \n",
       "4         Electronic check         126.24       5608.69    No  \n",
       "\n",
       "[5 rows x 21 columns]"
      ]
     },
     "execution_count": 4,
     "metadata": {},
     "output_type": "execute_result"
    }
   ],
   "source": [
    "Path = \"\"\n",
    "\n",
    "data = pd.read_csv(Path+\"data/dataset.csv\")\n",
    "print(data.shape)\n",
    "data.head()"
   ]
  },
  {
   "cell_type": "markdown",
   "id": "3bbdfc7d",
   "metadata": {},
   "source": [
    "# Exploratory Data Analysis (EDA)\n",
    "\n",
    "Vamos começar com uma análise inicial, onde poderemos verificar a estrutura dos dados, se existem dados faltantes, se existem valores duplicados, visualizar graficamente as variáveis e etc."
   ]
  },
  {
   "cell_type": "markdown",
   "id": "5086f237",
   "metadata": {},
   "source": [
    "| Coluna           | Descrição                                                                                        |\n",
    "| ---------------- | ------------------------------------------------------------------------------------------------ |\n",
    "| ID               | Customer ID                                                                                      |\n",
    "| GENDER           | Whether the customer is a male or a female                                                       |\n",
    "| SENIORCITIZEN    | Whether the customer is a senior citizen or not (1, 0)                                           |\n",
    "| PARTNER          | Whether the customer has a partner or not (Yes, No)                                              |\n",
    "| DEPENDENTS       | Whether the customer has dependents or not (Yes, No)                                             |\n",
    "| TENURE           | Number of months the customer has stayed with the company                                        |\n",
    "| PHONESERVICE     | Whether the customer has a phone service or not (Yes, No)                                        |\n",
    "| MULTIPLELINES    | Whether the customer has multiple lines or not (Yes, No, No phone service)                       |\n",
    "| INTERNETSERVICE  | Customer’s internet service provider (DSL, Fiber optic, No)                                      |\n",
    "| ONLINESECURITY   | Whether the customer has online security or not (Yes, No, No internet service)                   |\n",
    "| ONLINEBACKUP     | Whether the customer has online backup or not (Yes, No, No internet service)                     |\n",
    "| DEVICEPROTECTION | Whether the customer has device protection or not (Yes, No, No internet service)                 |\n",
    "| TECHSUPPORT      | Whether the customer has tech support or not (Yes, No, No internet service)                      |\n",
    "| STREAMINGTV      | Whether the customer has streaming TV or not (Yes, No, No internet service)                      |\n",
    "| STREAMINGMOVIES  | Whether the customer has streaming movies or not (Yes, No, No internet service)                  |\n",
    "| CONTRACT         | The contract term of the customer (Month-to-month, One year, Two year)                           |\n",
    "| PAPERLESSBILLING | Whether the customer has paperless billing or not (Yes, No)                                      |\n",
    "| PAYMENTMETHOD    | The customer’s payment method (Electronic check, Mailed check, Bank transfer (automatic), Credit card (automatic)) |\n",
    "| MONTHLYCHARGES   | The amount charged to the customer monthly                                                       |\n",
    "| TOTALCHARGES     | The total amount charged to the customer                                                         |\n",
    "| CHURN            | Whether the customer churned or not (Yes or No)                                                  |"
   ]
  },
  {
   "cell_type": "code",
   "execution_count": 6,
   "id": "15b2c1ad",
   "metadata": {},
   "outputs": [
    {
     "name": "stdout",
     "output_type": "stream",
     "text": [
      "<class 'pandas.core.frame.DataFrame'>\n",
      "RangeIndex: 4548 entries, 0 to 4547\n",
      "Data columns (total 21 columns):\n",
      " #   Column            Non-Null Count  Dtype  \n",
      "---  ------            --------------  -----  \n",
      " 0   ID                4548 non-null   int64  \n",
      " 1   GENDER            4520 non-null   object \n",
      " 2   SENIORCITIZEN     4523 non-null   float64\n",
      " 3   PARTNER           4524 non-null   object \n",
      " 4   DEPENDENTS        4526 non-null   object \n",
      " 5   TENURE            4533 non-null   float64\n",
      " 6   PHONESERVICE      4520 non-null   object \n",
      " 7   MULTIPLELINES     4523 non-null   object \n",
      " 8   INTERNETSERVICE   4524 non-null   object \n",
      " 9   ONLINESECURITY    4518 non-null   object \n",
      " 10  ONLINEBACKUP      4518 non-null   object \n",
      " 11  DEVICEPROTECTION  4524 non-null   object \n",
      " 12  TECHSUPPORT       4530 non-null   object \n",
      " 13  STREAMINGTV       4523 non-null   object \n",
      " 14  STREAMINGMOVIES   4523 non-null   object \n",
      " 15  CONTRACT          4525 non-null   object \n",
      " 16  PAPERLESSBILLING  4517 non-null   object \n",
      " 17  PAYMENTMETHOD     4520 non-null   object \n",
      " 18  MONTHLYCHARGES    4527 non-null   float64\n",
      " 19  TOTALCHARGES      4527 non-null   object \n",
      " 20  CHURN             4548 non-null   object \n",
      "dtypes: float64(3), int64(1), object(17)\n",
      "memory usage: 746.3+ KB\n"
     ]
    }
   ],
   "source": [
    "data.info()"
   ]
  },
  {
   "cell_type": "code",
   "execution_count": 8,
   "id": "bf6fbbcb",
   "metadata": {},
   "outputs": [
    {
     "name": "stdout",
     "output_type": "stream",
     "text": [
      "<class 'pandas.core.frame.DataFrame'>\n",
      "RangeIndex: 1324 entries, 0 to 1323\n",
      "Data columns (total 21 columns):\n",
      " #   Column            Non-Null Count  Dtype  \n",
      "---  ------            --------------  -----  \n",
      " 0   ID                1324 non-null   int64  \n",
      " 1   GENDER            1324 non-null   object \n",
      " 2   SENIORCITIZEN     1324 non-null   int64  \n",
      " 3   PARTNER           1324 non-null   object \n",
      " 4   DEPENDENTS        1324 non-null   object \n",
      " 5   TENURE            1324 non-null   int64  \n",
      " 6   PHONESERVICE      1324 non-null   object \n",
      " 7   MULTIPLELINES     1324 non-null   object \n",
      " 8   INTERNETSERVICE   1324 non-null   object \n",
      " 9   ONLINESECURITY    1324 non-null   object \n",
      " 10  ONLINEBACKUP      1324 non-null   object \n",
      " 11  DEVICEPROTECTION  1324 non-null   object \n",
      " 12  TECHSUPPORT       1324 non-null   object \n",
      " 13  STREAMINGTV       1324 non-null   object \n",
      " 14  STREAMINGMOVIES   1324 non-null   object \n",
      " 15  CONTRACT          1324 non-null   object \n",
      " 16  PAPERLESSBILLING  1324 non-null   object \n",
      " 17  PAYMENTMETHOD     1324 non-null   object \n",
      " 18  MONTHLYCHARGES    1324 non-null   float64\n",
      " 19  TOTALCHARGES      1324 non-null   object \n",
      " 20  CHURN             1324 non-null   object \n",
      "dtypes: float64(1), int64(3), object(17)\n",
      "memory usage: 217.3+ KB\n"
     ]
    }
   ],
   "source": [
    "test.info()"
   ]
  },
  {
   "cell_type": "markdown",
   "id": "bb6af0b7",
   "metadata": {},
   "source": [
    "## Describe Columns\n",
    "\n",
    "Aqui verificaremos o tipo de cada uma das variáveis nos bancos de traino e validação.\n",
    "- Se as variáveis forem categóricas, veremos a quantidade de valores únicos, qual valor mais se repete e com qual frequência.\n",
    "\n",
    "- Se as variáveis forem numéricas, veremos várias descrições estatísticas: media, desvio padrão, valores máximos e mínimos, quartis."
   ]
  },
  {
   "cell_type": "code",
   "execution_count": 6,
   "id": "1622a4c7",
   "metadata": {
    "scrolled": false
   },
   "outputs": [
    {
     "name": "stdout",
     "output_type": "stream",
     "text": [
      "-----DESCRIBE-----\n",
      "\t Column: GENDER\n",
      "\t Type: object \n",
      "\n",
      "\t Is null value: count     4520\n",
      "unique       2\n",
      "top       Male\n",
      "freq      2271\n",
      "Name: GENDER, dtype: object \n",
      "\n",
      "\n",
      "-----DESCRIBE-----\n",
      "\t Column: SENIORCITIZEN\n",
      "\t Type: float64 \n",
      "\n",
      "\t Is null value: count    4523.000000\n",
      "mean        0.163608\n",
      "std         0.369961\n",
      "min         0.000000\n",
      "25%         0.000000\n",
      "50%         0.000000\n",
      "75%         0.000000\n",
      "max         1.000000\n",
      "Name: SENIORCITIZEN, dtype: float64 \n",
      "\n",
      "\n",
      "-----DESCRIBE-----\n",
      "\t Column: PARTNER\n",
      "\t Type: object \n",
      "\n",
      "\t Is null value: count     4524\n",
      "unique       2\n",
      "top         No\n",
      "freq      2319\n",
      "Name: PARTNER, dtype: object \n",
      "\n",
      "\n",
      "-----DESCRIBE-----\n",
      "\t Column: DEPENDENTS\n",
      "\t Type: object \n",
      "\n",
      "\t Is null value: count     4526\n",
      "unique       2\n",
      "top         No\n",
      "freq      3183\n",
      "Name: DEPENDENTS, dtype: object \n",
      "\n",
      "\n",
      "-----DESCRIBE-----\n",
      "\t Column: TENURE\n",
      "\t Type: float64 \n",
      "\n",
      "\t Is null value: count    4533.000000\n",
      "mean       31.812927\n",
      "std        24.419055\n",
      "min         0.000000\n",
      "25%         8.000000\n",
      "50%        28.000000\n",
      "75%        54.000000\n",
      "max        72.000000\n",
      "Name: TENURE, dtype: float64 \n",
      "\n",
      "\n",
      "-----DESCRIBE-----\n",
      "\t Column: PHONESERVICE\n",
      "\t Type: object \n",
      "\n",
      "\t Is null value: count     4520\n",
      "unique       2\n",
      "top        Yes\n",
      "freq      4110\n",
      "Name: PHONESERVICE, dtype: object \n",
      "\n",
      "\n",
      "-----DESCRIBE-----\n",
      "\t Column: MULTIPLELINES\n",
      "\t Type: object \n",
      "\n",
      "\t Is null value: count     4523\n",
      "unique       3\n",
      "top         No\n",
      "freq      2218\n",
      "Name: MULTIPLELINES, dtype: object \n",
      "\n",
      "\n",
      "-----DESCRIBE-----\n",
      "\t Column: INTERNETSERVICE\n",
      "\t Type: object \n",
      "\n",
      "\t Is null value: count            4524\n",
      "unique              3\n",
      "top       Fiber optic\n",
      "freq             1996\n",
      "Name: INTERNETSERVICE, dtype: object \n",
      "\n",
      "\n",
      "-----DESCRIBE-----\n",
      "\t Column: ONLINESECURITY\n",
      "\t Type: object \n",
      "\n",
      "\t Is null value: count     4518\n",
      "unique       3\n",
      "top         No\n",
      "freq      2258\n",
      "Name: ONLINESECURITY, dtype: object \n",
      "\n",
      "\n",
      "-----DESCRIBE-----\n",
      "\t Column: ONLINEBACKUP\n",
      "\t Type: object \n",
      "\n",
      "\t Is null value: count     4518\n",
      "unique       3\n",
      "top         No\n",
      "freq      2009\n",
      "Name: ONLINEBACKUP, dtype: object \n",
      "\n",
      "\n",
      "-----DESCRIBE-----\n",
      "\t Column: DEVICEPROTECTION\n",
      "\t Type: object \n",
      "\n",
      "\t Is null value: count     4524\n",
      "unique       3\n",
      "top         No\n",
      "freq      1985\n",
      "Name: DEVICEPROTECTION, dtype: object \n",
      "\n",
      "\n",
      "-----DESCRIBE-----\n",
      "\t Column: TECHSUPPORT\n",
      "\t Type: object \n",
      "\n",
      "\t Is null value: count     4530\n",
      "unique       3\n",
      "top         No\n",
      "freq      2240\n",
      "Name: TECHSUPPORT, dtype: object \n",
      "\n",
      "\n",
      "-----DESCRIBE-----\n",
      "\t Column: STREAMINGTV\n",
      "\t Type: object \n",
      "\n",
      "\t Is null value: count     4523\n",
      "unique       3\n",
      "top         No\n",
      "freq      1795\n",
      "Name: STREAMINGTV, dtype: object \n",
      "\n",
      "\n",
      "-----DESCRIBE-----\n",
      "\t Column: STREAMINGMOVIES\n",
      "\t Type: object \n",
      "\n",
      "\t Is null value: count     4523\n",
      "unique       3\n",
      "top        Yes\n",
      "freq      1776\n",
      "Name: STREAMINGMOVIES, dtype: object \n",
      "\n",
      "\n",
      "-----DESCRIBE-----\n",
      "\t Column: CONTRACT\n",
      "\t Type: object \n",
      "\n",
      "\t Is null value: count               4525\n",
      "unique                 3\n",
      "top       Month-to-month\n",
      "freq                2545\n",
      "Name: CONTRACT, dtype: object \n",
      "\n",
      "\n",
      "-----DESCRIBE-----\n",
      "\t Column: PAPERLESSBILLING\n",
      "\t Type: object \n",
      "\n",
      "\t Is null value: count     4517\n",
      "unique       2\n",
      "top        Yes\n",
      "freq      2699\n",
      "Name: PAPERLESSBILLING, dtype: object \n",
      "\n",
      "\n",
      "-----DESCRIBE-----\n",
      "\t Column: PAYMENTMETHOD\n",
      "\t Type: object \n",
      "\n",
      "\t Is null value: count                 4520\n",
      "unique                   4\n",
      "top       Electronic check\n",
      "freq                  1531\n",
      "Name: PAYMENTMETHOD, dtype: object \n",
      "\n",
      "\n",
      "-----DESCRIBE-----\n",
      "\t Column: MONTHLYCHARGES\n",
      "\t Type: float64 \n",
      "\n",
      "\t Is null value: count    4527.000000\n",
      "mean       95.836351\n",
      "std        75.492469\n",
      "min         0.090000\n",
      "25%        34.645000\n",
      "50%        73.530000\n",
      "75%       143.595000\n",
      "max       345.240000\n",
      "Name: MONTHLYCHARGES, dtype: float64 \n",
      "\n",
      "\n",
      "-----DESCRIBE-----\n",
      "\t Column: TOTALCHARGES\n",
      "\t Type: object \n",
      "\n",
      "\t Is null value: count     4527\n",
      "unique    4495\n",
      "top           \n",
      "freq         3\n",
      "Name: TOTALCHARGES, dtype: object \n",
      "\n",
      "\n"
     ]
    }
   ],
   "source": [
    "# Select numeric columns\n",
    "cols_list = [col for col in data.columns if col not in [TARGET_NAME, 'ID']]\n",
    "\n",
    "def describe_cols(df):\n",
    "\n",
    "    for col in cols_list:\n",
    "        print(f\"-----DESCRIBE-----\")\n",
    "        print(f\"\\t Column: {col}\")\n",
    "        print(f\"\\t Type: {df[col].dtype} \\n\")\n",
    "        print(f\"\\t Is null value: {df[col].describe()} \\n\\n\")\n",
    "\n",
    "describe_cols(data)"
   ]
  },
  {
   "cell_type": "code",
   "execution_count": 8,
   "id": "a8c6b8aa",
   "metadata": {
    "scrolled": false
   },
   "outputs": [
    {
     "name": "stdout",
     "output_type": "stream",
     "text": [
      "-----DESCRIBE-----\n",
      "\t Column: GENDER\n",
      "\t Type: object \n",
      "\n",
      "\t Is null value: count     1324\n",
      "unique       2\n",
      "top       Male\n",
      "freq       671\n",
      "Name: GENDER, dtype: object \n",
      "\n",
      "\n",
      "-----DESCRIBE-----\n",
      "\t Column: SENIORCITIZEN\n",
      "\t Type: int64 \n",
      "\n",
      "\t Is null value: count    1324.000000\n",
      "mean        0.157100\n",
      "std         0.364032\n",
      "min         0.000000\n",
      "25%         0.000000\n",
      "50%         0.000000\n",
      "75%         0.000000\n",
      "max         1.000000\n",
      "Name: SENIORCITIZEN, dtype: float64 \n",
      "\n",
      "\n",
      "-----DESCRIBE-----\n",
      "\t Column: PARTNER\n",
      "\t Type: object \n",
      "\n",
      "\t Is null value: count     1324\n",
      "unique       2\n",
      "top         No\n",
      "freq       689\n",
      "Name: PARTNER, dtype: object \n",
      "\n",
      "\n",
      "-----DESCRIBE-----\n",
      "\t Column: DEPENDENTS\n",
      "\t Type: object \n",
      "\n",
      "\t Is null value: count     1324\n",
      "unique       2\n",
      "top         No\n",
      "freq       936\n",
      "Name: DEPENDENTS, dtype: object \n",
      "\n",
      "\n",
      "-----DESCRIBE-----\n",
      "\t Column: TENURE\n",
      "\t Type: int64 \n",
      "\n",
      "\t Is null value: count    1324.000000\n",
      "mean       33.714502\n",
      "std        25.065660\n",
      "min         0.000000\n",
      "25%        10.000000\n",
      "50%        30.000000\n",
      "75%        58.000000\n",
      "max        72.000000\n",
      "Name: TENURE, dtype: float64 \n",
      "\n",
      "\n",
      "-----DESCRIBE-----\n",
      "\t Column: PHONESERVICE\n",
      "\t Type: object \n",
      "\n",
      "\t Is null value: count     1324\n",
      "unique       2\n",
      "top        Yes\n",
      "freq      1195\n",
      "Name: PHONESERVICE, dtype: object \n",
      "\n",
      "\n",
      "-----DESCRIBE-----\n",
      "\t Column: MULTIPLELINES\n",
      "\t Type: object \n",
      "\n",
      "\t Is null value: count     1324\n",
      "unique       3\n",
      "top         No\n",
      "freq       610\n",
      "Name: MULTIPLELINES, dtype: object \n",
      "\n",
      "\n",
      "-----DESCRIBE-----\n",
      "\t Column: INTERNETSERVICE\n",
      "\t Type: object \n",
      "\n",
      "\t Is null value: count            1324\n",
      "unique              3\n",
      "top       Fiber optic\n",
      "freq              575\n",
      "Name: INTERNETSERVICE, dtype: object \n",
      "\n",
      "\n",
      "-----DESCRIBE-----\n",
      "\t Column: ONLINESECURITY\n",
      "\t Type: object \n",
      "\n",
      "\t Is null value: count     1324\n",
      "unique       3\n",
      "top         No\n",
      "freq       623\n",
      "Name: ONLINESECURITY, dtype: object \n",
      "\n",
      "\n",
      "-----DESCRIBE-----\n",
      "\t Column: ONLINEBACKUP\n",
      "\t Type: object \n",
      "\n",
      "\t Is null value: count     1324\n",
      "unique       3\n",
      "top         No\n",
      "freq       551\n",
      "Name: ONLINEBACKUP, dtype: object \n",
      "\n",
      "\n",
      "-----DESCRIBE-----\n",
      "\t Column: DEVICEPROTECTION\n",
      "\t Type: object \n",
      "\n",
      "\t Is null value: count     1324\n",
      "unique       3\n",
      "top         No\n",
      "freq       573\n",
      "Name: DEVICEPROTECTION, dtype: object \n",
      "\n",
      "\n",
      "-----DESCRIBE-----\n",
      "\t Column: TECHSUPPORT\n",
      "\t Type: object \n",
      "\n",
      "\t Is null value: count     1324\n",
      "unique       3\n",
      "top         No\n",
      "freq       655\n",
      "Name: TECHSUPPORT, dtype: object \n",
      "\n",
      "\n",
      "-----DESCRIBE-----\n",
      "\t Column: STREAMINGTV\n",
      "\t Type: object \n",
      "\n",
      "\t Is null value: count     1324\n",
      "unique       3\n",
      "top         No\n",
      "freq       529\n",
      "Name: STREAMINGTV, dtype: object \n",
      "\n",
      "\n",
      "-----DESCRIBE-----\n",
      "\t Column: STREAMINGMOVIES\n",
      "\t Type: object \n",
      "\n",
      "\t Is null value: count     1324\n",
      "unique       3\n",
      "top         No\n",
      "freq       549\n",
      "Name: STREAMINGMOVIES, dtype: object \n",
      "\n",
      "\n",
      "-----DESCRIBE-----\n",
      "\t Column: CONTRACT\n",
      "\t Type: object \n",
      "\n",
      "\t Is null value: count               1324\n",
      "unique                 3\n",
      "top       Month-to-month\n",
      "freq                 693\n",
      "Name: CONTRACT, dtype: object \n",
      "\n",
      "\n",
      "-----DESCRIBE-----\n",
      "\t Column: PAPERLESSBILLING\n",
      "\t Type: object \n",
      "\n",
      "\t Is null value: count     1324\n",
      "unique       2\n",
      "top        Yes\n",
      "freq       756\n",
      "Name: PAPERLESSBILLING, dtype: object \n",
      "\n",
      "\n",
      "-----DESCRIBE-----\n",
      "\t Column: PAYMENTMETHOD\n",
      "\t Type: object \n",
      "\n",
      "\t Is null value: count                 1324\n",
      "unique                   4\n",
      "top       Electronic check\n",
      "freq                   431\n",
      "Name: PAYMENTMETHOD, dtype: object \n",
      "\n",
      "\n",
      "-----DESCRIBE-----\n",
      "\t Column: MONTHLYCHARGES\n",
      "\t Type: float64 \n",
      "\n",
      "\t Is null value: count    1324.000000\n",
      "mean       95.174116\n",
      "std        75.788872\n",
      "min         0.090000\n",
      "25%        32.750000\n",
      "50%        70.990000\n",
      "75%       147.522500\n",
      "max       328.800000\n",
      "Name: MONTHLYCHARGES, dtype: float64 \n",
      "\n",
      "\n",
      "-----DESCRIBE-----\n",
      "\t Column: TOTALCHARGES\n",
      "\t Type: object \n",
      "\n",
      "\t Is null value: count     1324\n",
      "unique    1317\n",
      "top           \n",
      "freq         6\n",
      "Name: TOTALCHARGES, dtype: object \n",
      "\n",
      "\n"
     ]
    }
   ],
   "source": [
    "describe_cols(test)"
   ]
  },
  {
   "cell_type": "markdown",
   "id": "450d0539",
   "metadata": {},
   "source": [
    "## Null values\n",
    "\n",
    "Identificar se existe e a quantidade de valores faltantes nos bancos de traino e validação."
   ]
  },
  {
   "cell_type": "code",
   "execution_count": 9,
   "id": "6f89bb50",
   "metadata": {},
   "outputs": [
    {
     "data": {
      "text/plain": [
       "ID                   0\n",
       "GENDER              28\n",
       "SENIORCITIZEN       25\n",
       "PARTNER             24\n",
       "DEPENDENTS          22\n",
       "TENURE              15\n",
       "PHONESERVICE        28\n",
       "MULTIPLELINES       25\n",
       "INTERNETSERVICE     24\n",
       "ONLINESECURITY      30\n",
       "ONLINEBACKUP        30\n",
       "DEVICEPROTECTION    24\n",
       "TECHSUPPORT         18\n",
       "STREAMINGTV         25\n",
       "STREAMINGMOVIES     25\n",
       "CONTRACT            23\n",
       "PAPERLESSBILLING    31\n",
       "PAYMENTMETHOD       28\n",
       "MONTHLYCHARGES      21\n",
       "TOTALCHARGES        21\n",
       "CHURN                0\n",
       "dtype: int64"
      ]
     },
     "execution_count": 9,
     "metadata": {},
     "output_type": "execute_result"
    }
   ],
   "source": [
    "data.isnull().sum()"
   ]
  },
  {
   "cell_type": "code",
   "execution_count": 10,
   "id": "fd92cd9d",
   "metadata": {},
   "outputs": [
    {
     "data": {
      "text/plain": [
       "ID                  0\n",
       "GENDER              0\n",
       "SENIORCITIZEN       0\n",
       "PARTNER             0\n",
       "DEPENDENTS          0\n",
       "TENURE              0\n",
       "PHONESERVICE        0\n",
       "MULTIPLELINES       0\n",
       "INTERNETSERVICE     0\n",
       "ONLINESECURITY      0\n",
       "ONLINEBACKUP        0\n",
       "DEVICEPROTECTION    0\n",
       "TECHSUPPORT         0\n",
       "STREAMINGTV         0\n",
       "STREAMINGMOVIES     0\n",
       "CONTRACT            0\n",
       "PAPERLESSBILLING    0\n",
       "PAYMENTMETHOD       0\n",
       "MONTHLYCHARGES      0\n",
       "TOTALCHARGES        0\n",
       "CHURN               0\n",
       "dtype: int64"
      ]
     },
     "execution_count": 10,
     "metadata": {},
     "output_type": "execute_result"
    }
   ],
   "source": [
    "test.isnull().sum()"
   ]
  },
  {
   "cell_type": "markdown",
   "id": "14633935",
   "metadata": {},
   "source": [
    "## Duplicate\n",
    "\n",
    "Identifica se existem valores duplicados entres as observações(linhas do banco de dados) nos bancos de traino e validação."
   ]
  },
  {
   "cell_type": "code",
   "execution_count": 11,
   "id": "9ee14461",
   "metadata": {},
   "outputs": [
    {
     "name": "stdout",
     "output_type": "stream",
     "text": [
      "0\n",
      "0\n"
     ]
    }
   ],
   "source": [
    "print(data.duplicated().sum())\n",
    "print(test.duplicated().sum())"
   ]
  },
  {
   "cell_type": "markdown",
   "id": "226c6dd7",
   "metadata": {},
   "source": [
    "## Plots\n",
    "\n",
    "Visualizar estrutura dos dados numéricos."
   ]
  },
  {
   "cell_type": "code",
   "execution_count": 6,
   "id": "798244f3",
   "metadata": {},
   "outputs": [
    {
     "name": "stdout",
     "output_type": "stream",
     "text": [
      "3\n"
     ]
    },
    {
     "data": {
      "image/png": "[encoded data removed]",
      "text/plain": [
       "<Figure size 864x576 with 4 Axes>"
      ]
     },
     "metadata": {
      "needs_background": "light"
     },
     "output_type": "display_data"
    }
   ],
   "source": [
    "cols_num = [col for col in data.select_dtypes(include=\"number\").columns if col not in ['ID', TARGET_NAME]]\n",
    "print(len(cols_num))\n",
    "\n",
    "data[cols_num].hist(grid=False,\n",
    "                    figsize=(12, 8),\n",
    "                    bins=30);"
   ]
  },
  {
   "cell_type": "markdown",
   "id": "dd23d866",
   "metadata": {},
   "source": [
    "### Visualizar os dados Categóricos.\n",
    "\n",
    "- A variável 'TOTALCHARGES' foi excluída dos gráficos devido a quantidade de valores únicos (4495 valores únicos), isso gera um erro no gráfico por causa da grande quantidade de valores."
   ]
  },
  {
   "cell_type": "code",
   "execution_count": 7,
   "id": "cfaca3e1",
   "metadata": {},
   "outputs": [
    {
     "name": "stdout",
     "output_type": "stream",
     "text": [
      "15\n"
     ]
    }
   ],
   "source": [
    "cols_obj = [col for col in data.select_dtypes(include=\"object\").columns if col not in ['ID', \n",
    "                                                                                       TARGET_NAME, 'TOTALCHARGES']]\n",
    "print(len(cols_obj))\n",
    "\n",
    "def bar_chart(data, feature):\n",
    "    posit = data[data[TARGET_NAME] == 'Yes'][feature].value_counts()\n",
    "    neg = data[data[TARGET_NAME] == 'No'][feature].value_counts()      \n",
    "    df = pd.DataFrame([posit, neg], index=['Yes', 'No'])    \n",
    "    df.plot(kind='bar', stacked = True, figsize = (10, 5))  \n",
    "    plt.title(feature);"
   ]
  },
  {
   "cell_type": "code",
   "execution_count": 8,
   "id": "25eabc70",
   "metadata": {},
   "outputs": [
    {
     "name": "stdout",
     "output_type": "stream",
     "text": [
      "Wall time: 400 ms\n"
     ]
    },
    {
     "data": {
      "image/png": "[encoded data removed]",
      "text/plain": [
       "<Figure size 720x360 with 1 Axes>"
      ]
     },
     "metadata": {
      "needs_background": "light"
     },
     "output_type": "display_data"
    },
    {
     "data": {
      "image/png": "[encoded data removed]",
      "text/plain": [
       "<Figure size 720x360 with 1 Axes>"
      ]
     },
     "metadata": {
      "needs_background": "light"
     },
     "output_type": "display_data"
    },
    {
     "data": {
      "image/png": "[encoded data removed]",
      "text/plain": [
       "<Figure size 720x360 with 1 Axes>"
      ]
     },
     "metadata": {
      "needs_background": "light"
     },
     "output_type": "display_data"
    },
    {
     "data": {
      "image/png": "[encoded data removed]",
      "text/plain": [
       "<Figure size 720x360 with 1 Axes>"
      ]
     },
     "metadata": {
      "needs_background": "light"
     },
     "output_type": "display_data"
    },
    {
     "data": {
      "image/png": "[encoded data removed]",
      "text/plain": [
       "<Figure size 720x360 with 1 Axes>"
      ]
     },
     "metadata": {
      "needs_background": "light"
     },
     "output_type": "display_data"
    },
    {
     "data": {
      "image/png": "[encoded data removed]",
      "text/plain": [
       "<Figure size 720x360 with 1 Axes>"
      ]
     },
     "metadata": {
      "needs_background": "light"
     },
     "output_type": "display_data"
    },
    {
     "data": {
      "image/png": "[encoded data removed]",
      "text/plain": [
       "<Figure size 720x360 with 1 Axes>"
      ]
     },
     "metadata": {
      "needs_background": "light"
     },
     "output_type": "display_data"
    },
    {
     "data": {
      "image/png": "[encoded data removed]",
      "text/plain": [
       "<Figure size 720x360 with 1 Axes>"
      ]
     },
     "metadata": {
      "needs_background": "light"
     },
     "output_type": "display_data"
    },
    {
     "data": {
      "image/png": "[encoded data removed]",
      "text/plain": [
       "<Figure size 720x360 with 1 Axes>"
      ]
     },
     "metadata": {
      "needs_background": "light"
     },
     "output_type": "display_data"
    },
    {
     "data": {
      "image/png": "[encoded data removed]",
      "text/plain": [
       "<Figure size 720x360 with 1 Axes>"
      ]
     },
     "metadata": {
      "needs_background": "light"
     },
     "output_type": "display_data"
    },
    {
     "data": {
      "image/png": "[encoded data removed]",
      "text/plain": [
       "<Figure size 720x360 with 1 Axes>"
      ]
     },
     "metadata": {
      "needs_background": "light"
     },
     "output_type": "display_data"
    },
    {
     "data": {
      "image/png": "[encoded data removed]",
      "text/plain": [
       "<Figure size 720x360 with 1 Axes>"
      ]
     },
     "metadata": {
      "needs_background": "light"
     },
     "output_type": "display_data"
    },
    {
     "data": {
      "image/png": "[encoded data removed]",
      "text/plain": [
       "<Figure size 720x360 with 1 Axes>"
      ]
     },
     "metadata": {
      "needs_background": "light"
     },
     "output_type": "display_data"
    },
    {
     "data": {
      "image/png": "[encoded data removed]",
      "text/plain": [
       "<Figure size 720x360 with 1 Axes>"
      ]
     },
     "metadata": {
      "needs_background": "light"
     },
     "output_type": "display_data"
    },
    {
     "data": {
      "image/png": "[encoded data removed]",
      "text/plain": [
       "<Figure size 720x360 with 1 Axes>"
      ]
     },
     "metadata": {
      "needs_background": "light"
     },
     "output_type": "display_data"
    }
   ],
   "source": [
    "%%time\n",
    "\n",
    "for col in cols_obj:\n",
    "    bar_chart(data, col)"
   ]
  },
  {
   "cell_type": "markdown",
   "id": "2e778d9e",
   "metadata": {},
   "source": [
    "Avaliando desbalanceamento variável alvo \"CHURN\" (existe muito mais valores “No” do que “Yes” na coluna CHURN)."
   ]
  },
  {
   "cell_type": "code",
   "execution_count": 9,
   "id": "55b05a98",
   "metadata": {},
   "outputs": [
    {
     "data": {
      "image/png": "[encoded data removed]",
      "text/plain": [
       "<Figure size 648x432 with 1 Axes>"
      ]
     },
     "metadata": {
      "needs_background": "light"
     },
     "output_type": "display_data"
    }
   ],
   "source": [
    "fig = plt.subplots(figsize=(9, 6))\n",
    "\n",
    "sns.countplot(x=TARGET_NAME, data=data);"
   ]
  },
  {
   "cell_type": "markdown",
   "id": "0528d41d",
   "metadata": {},
   "source": [
    "# Data Prepocessing and Data Engineering"
   ]
  },
  {
   "cell_type": "markdown",
   "id": "174973a0",
   "metadata": {},
   "source": [
    "Foram realizados alguns testes com as __features (variáveis)__, __transformação de features__ e modelos de __Machine Learining__. Não mostraremos todos os testes feitos. Os pre-processamentos e algoritmos testados, são: \n",
    "\n",
    "- __Features__: Usaremos todas as colunas, ou excluindo a coluna “ID”;\n",
    "- __Tipo de conversão de texto em números__: Label Econdec e Target Econdec;\n",
    "- __Algoritmos de classificação binária__: LogisticRegression, KNeighborsClassifier, RandomForestClassifier, XGBClassifier, LGBMClassifier e CatBoostClassifier.\n",
    "\n",
    "__Melhor combinação:__ colunas excluindo a coluna “ID”,  Label Econdec com algoritmos CatBoostClassifier."
   ]
  },
  {
   "cell_type": "code",
   "execution_count": 5,
   "id": "da5e0285",
   "metadata": {},
   "outputs": [
    {
     "data": {
      "text/plain": [
       "(4548, 21)"
      ]
     },
     "execution_count": 5,
     "metadata": {},
     "output_type": "execute_result"
    }
   ],
   "source": [
    "train = data.copy()\n",
    "\n",
    "train.shape"
   ]
  },
  {
   "cell_type": "markdown",
   "id": "cc1f4c18",
   "metadata": {},
   "source": [
    "Removendo a coluna \"ID\"."
   ]
  },
  {
   "cell_type": "code",
   "execution_count": 6,
   "id": "76831ff4",
   "metadata": {},
   "outputs": [
    {
     "data": {
      "text/plain": [
       "(4548, 20)"
      ]
     },
     "execution_count": 6,
     "metadata": {},
     "output_type": "execute_result"
    }
   ],
   "source": [
    "train.drop('ID', axis=1, inplace=True)\n",
    "\n",
    "train.shape"
   ]
  },
  {
   "cell_type": "markdown",
   "id": "b1450de1",
   "metadata": {},
   "source": [
    "## Treated null values\n",
    "\n",
    "Aqui trataremos os valores faltantes (NaN). Como a coluna com a maior quantidade de NaN tem __31 Nan__ em um universo de __4548 observações__. \n",
    "Vamos substituir os valores de cada coluna por valores que mais se repetem ou um valor diferente do que tem na coluna.   \n",
    "No caso das colunas com valores numéricos preencheremos o NaN com a media."
   ]
  },
  {
   "cell_type": "code",
   "execution_count": 7,
   "id": "44d411b8",
   "metadata": {},
   "outputs": [],
   "source": [
    "train['GENDER'].fillna('Male', inplace=True)\n",
    "train['SENIORCITIZEN'].fillna(0.0, inplace=True)\n",
    "train['PARTNER'].fillna('No', inplace=True)\n",
    "train['DEPENDENTS'].fillna('No', inplace=True)\n",
    "train['TENURE'].fillna(train['TENURE'].median(), inplace=True)\n",
    "train['PHONESERVICE'].fillna('No', inplace=True)\n",
    "train['MULTIPLELINES'].fillna('No phone service', inplace=True)\n",
    "train['INTERNETSERVICE'].fillna('No', inplace=True)\n",
    "train['ONLINESECURITY'].fillna('No internet service', inplace=True)\n",
    "train['ONLINEBACKUP'].fillna('No internet service', inplace=True)\n",
    "train['DEVICEPROTECTION'].fillna('No internet service', inplace=True)\n",
    "train['TECHSUPPORT'].fillna('No internet service', inplace=True)\n",
    "train['STREAMINGTV'].fillna('No internet service', inplace=True)\n",
    "train['STREAMINGMOVIES'].fillna('No internet service', inplace=True)\n",
    "train['TECHSUPPORT'].fillna('No internet service', inplace=True)\n",
    "train['CONTRACT'].fillna('Other', inplace=True)\n",
    "train['PAPERLESSBILLING'].fillna('No', inplace=True)\n",
    "train['PAYMENTMETHOD'].fillna('Other', inplace=True)\n",
    "train['MONTHLYCHARGES'].fillna(train['MONTHLYCHARGES'].mean(), inplace=True)\n",
    "train['TOTALCHARGES'] = pd.to_numeric(train['TOTALCHARGES'], errors='coerce')\n",
    "train['TOTALCHARGES'].fillna(train['TOTALCHARGES'].mean(), inplace=True)"
   ]
  },
  {
   "cell_type": "markdown",
   "id": "5d88b56f",
   "metadata": {},
   "source": [
    "## LabelEncoder\n",
    "\n",
    "Realizando a transformação das variáveis texto em numéricas."
   ]
  },
  {
   "cell_type": "code",
   "execution_count": 8,
   "id": "5cf638da",
   "metadata": {},
   "outputs": [
    {
     "name": "stdout",
     "output_type": "stream",
     "text": [
      "16\n",
      "(4548, 20)\n"
     ]
    },
    {
     "data": {
      "text/html": [
       "<div>\n",
       "<style scoped>\n",
       "    .dataframe tbody tr th:only-of-type {\n",
       "        vertical-align: middle;\n",
       "    }\n",
       "\n",
       "    .dataframe tbody tr th {\n",
       "        vertical-align: top;\n",
       "    }\n",
       "\n",
       "    .dataframe thead th {\n",
       "        text-align: right;\n",
       "    }\n",
       "</style>\n",
       "<table border=\"1\" class=\"dataframe\">\n",
       "  <thead>\n",
       "    <tr style=\"text-align: right;\">\n",
       "      <th></th>\n",
       "      <th>GENDER</th>\n",
       "      <th>SENIORCITIZEN</th>\n",
       "      <th>PARTNER</th>\n",
       "      <th>DEPENDENTS</th>\n",
       "      <th>TENURE</th>\n",
       "      <th>PHONESERVICE</th>\n",
       "      <th>MULTIPLELINES</th>\n",
       "      <th>INTERNETSERVICE</th>\n",
       "      <th>ONLINESECURITY</th>\n",
       "      <th>ONLINEBACKUP</th>\n",
       "      <th>DEVICEPROTECTION</th>\n",
       "      <th>TECHSUPPORT</th>\n",
       "      <th>STREAMINGTV</th>\n",
       "      <th>STREAMINGMOVIES</th>\n",
       "      <th>CONTRACT</th>\n",
       "      <th>PAPERLESSBILLING</th>\n",
       "      <th>PAYMENTMETHOD</th>\n",
       "      <th>MONTHLYCHARGES</th>\n",
       "      <th>TOTALCHARGES</th>\n",
       "      <th>CHURN</th>\n",
       "    </tr>\n",
       "  </thead>\n",
       "  <tbody>\n",
       "    <tr>\n",
       "      <th>0</th>\n",
       "      <td>0</td>\n",
       "      <td>0.0</td>\n",
       "      <td>0</td>\n",
       "      <td>0</td>\n",
       "      <td>26.0</td>\n",
       "      <td>1</td>\n",
       "      <td>0</td>\n",
       "      <td>0</td>\n",
       "      <td>0</td>\n",
       "      <td>2</td>\n",
       "      <td>2</td>\n",
       "      <td>0</td>\n",
       "      <td>0</td>\n",
       "      <td>0</td>\n",
       "      <td>0</td>\n",
       "      <td>1</td>\n",
       "      <td>1</td>\n",
       "      <td>131.55</td>\n",
       "      <td>2321</td>\n",
       "      <td>0</td>\n",
       "    </tr>\n",
       "    <tr>\n",
       "      <th>1</th>\n",
       "      <td>1</td>\n",
       "      <td>0.0</td>\n",
       "      <td>0</td>\n",
       "      <td>0</td>\n",
       "      <td>39.0</td>\n",
       "      <td>1</td>\n",
       "      <td>2</td>\n",
       "      <td>1</td>\n",
       "      <td>0</td>\n",
       "      <td>0</td>\n",
       "      <td>0</td>\n",
       "      <td>0</td>\n",
       "      <td>0</td>\n",
       "      <td>0</td>\n",
       "      <td>0</td>\n",
       "      <td>1</td>\n",
       "      <td>1</td>\n",
       "      <td>79.61</td>\n",
       "      <td>3034</td>\n",
       "      <td>0</td>\n",
       "    </tr>\n",
       "    <tr>\n",
       "      <th>2</th>\n",
       "      <td>1</td>\n",
       "      <td>0.0</td>\n",
       "      <td>0</td>\n",
       "      <td>0</td>\n",
       "      <td>1.0</td>\n",
       "      <td>1</td>\n",
       "      <td>0</td>\n",
       "      <td>2</td>\n",
       "      <td>1</td>\n",
       "      <td>1</td>\n",
       "      <td>1</td>\n",
       "      <td>1</td>\n",
       "      <td>1</td>\n",
       "      <td>1</td>\n",
       "      <td>0</td>\n",
       "      <td>0</td>\n",
       "      <td>1</td>\n",
       "      <td>9.26</td>\n",
       "      <td>34</td>\n",
       "      <td>0</td>\n",
       "    </tr>\n",
       "    <tr>\n",
       "      <th>3</th>\n",
       "      <td>1</td>\n",
       "      <td>0.0</td>\n",
       "      <td>1</td>\n",
       "      <td>1</td>\n",
       "      <td>66.0</td>\n",
       "      <td>1</td>\n",
       "      <td>2</td>\n",
       "      <td>2</td>\n",
       "      <td>1</td>\n",
       "      <td>1</td>\n",
       "      <td>1</td>\n",
       "      <td>1</td>\n",
       "      <td>1</td>\n",
       "      <td>1</td>\n",
       "      <td>3</td>\n",
       "      <td>1</td>\n",
       "      <td>1</td>\n",
       "      <td>42.14</td>\n",
       "      <td>2470</td>\n",
       "      <td>0</td>\n",
       "    </tr>\n",
       "    <tr>\n",
       "      <th>4</th>\n",
       "      <td>1</td>\n",
       "      <td>0.0</td>\n",
       "      <td>0</td>\n",
       "      <td>0</td>\n",
       "      <td>56.0</td>\n",
       "      <td>1</td>\n",
       "      <td>2</td>\n",
       "      <td>1</td>\n",
       "      <td>0</td>\n",
       "      <td>2</td>\n",
       "      <td>0</td>\n",
       "      <td>0</td>\n",
       "      <td>2</td>\n",
       "      <td>2</td>\n",
       "      <td>0</td>\n",
       "      <td>0</td>\n",
       "      <td>2</td>\n",
       "      <td>126.24</td>\n",
       "      <td>3934</td>\n",
       "      <td>0</td>\n",
       "    </tr>\n",
       "  </tbody>\n",
       "</table>\n",
       "</div>"
      ],
      "text/plain": [
       "   GENDER  SENIORCITIZEN  PARTNER  DEPENDENTS  TENURE  PHONESERVICE  \\\n",
       "0       0            0.0        0           0    26.0             1   \n",
       "1       1            0.0        0           0    39.0             1   \n",
       "2       1            0.0        0           0     1.0             1   \n",
       "3       1            0.0        1           1    66.0             1   \n",
       "4       1            0.0        0           0    56.0             1   \n",
       "\n",
       "   MULTIPLELINES  INTERNETSERVICE  ONLINESECURITY  ONLINEBACKUP  \\\n",
       "0              0                0               0             2   \n",
       "1              2                1               0             0   \n",
       "2              0                2               1             1   \n",
       "3              2                2               1             1   \n",
       "4              2                1               0             2   \n",
       "\n",
       "   DEVICEPROTECTION  TECHSUPPORT  STREAMINGTV  STREAMINGMOVIES  CONTRACT  \\\n",
       "0                 2            0            0                0         0   \n",
       "1                 0            0            0                0         0   \n",
       "2                 1            1            1                1         0   \n",
       "3                 1            1            1                1         3   \n",
       "4                 0            0            2                2         0   \n",
       "\n",
       "   PAPERLESSBILLING  PAYMENTMETHOD  MONTHLYCHARGES  TOTALCHARGES  CHURN  \n",
       "0                 1              1          131.55          2321      0  \n",
       "1                 1              1           79.61          3034      0  \n",
       "2                 0              1            9.26            34      0  \n",
       "3                 1              1           42.14          2470      0  \n",
       "4                 0              2          126.24          3934      0  "
      ]
     },
     "execution_count": 8,
     "metadata": {},
     "output_type": "execute_result"
    }
   ],
   "source": [
    "from sklearn.preprocessing import LabelEncoder\n",
    "\n",
    "# Select object columns\n",
    "cols_obj = [col for col in data.select_dtypes(include=\"object\").columns if col not in [TARGET_NAME]]\n",
    "print(len(cols_obj))\n",
    "cols_obj\n",
    "\n",
    "enc_label = LabelEncoder()\n",
    "\n",
    "train[TARGET_NAME] = enc_label.fit_transform(train[TARGET_NAME])\n",
    "\n",
    "\n",
    "# Label Encoding      \n",
    "for col in cols_obj:      \n",
    "    enc_label = LabelEncoder()\n",
    "    \n",
    "    train[col] = enc_label.fit_transform(train[col])\n",
    "    \n",
    "\n",
    "\n",
    "print(train.shape)\n",
    "train.head()"
   ]
  },
  {
   "cell_type": "markdown",
   "id": "d2686a98",
   "metadata": {},
   "source": [
    "# Train Baseline Model\n",
    "\n",
    "Nesta parte vamos treinar o nosso modelo __Baseline (o modelo base)__ de __classificação binária__. Para isso dividiremos o dataset que tem __4548 observações__, sendo 70% para treinamento e 30% para validação usando a métrica __“F1 Scores”__ que foi a métrica usado no desafio da __IBM__.\n",
    "\n",
    "### F1 score\n",
    "\n",
    "<font size=\"4\">$$ F1 \\; Score =  \\frac {2 * Precision * Recall} {Precision + Recall} = \\frac {2 TP} {2 TP + FP + FN}$$</font>\n",
    "\n",
    "- Média harmônica entre **Precision** e **Recall**.\n",
    "    - Minimiza os **FP - False Positives. → Precison**\n",
    "    - Minimiza os **FN - False Negative. → Recall**"
   ]
  },
  {
   "cell_type": "markdown",
   "id": "03722bc3",
   "metadata": {},
   "source": [
    "## Create X, y variables\n",
    "\n",
    "- O “X” são as variáveis que o modelo vai utilizar para fazer as previsões (variáveis independentes).\n",
    "- O “y” é a variável alvo, a variável que o modelo vai prever (variável dependente)."
   ]
  },
  {
   "cell_type": "code",
   "execution_count": 9,
   "id": "a5d280d7",
   "metadata": {},
   "outputs": [
    {
     "name": "stdout",
     "output_type": "stream",
     "text": [
      "(4548, 19) (4548,)\n"
     ]
    }
   ],
   "source": [
    "X = train.drop(TARGET_NAME, axis=1)\n",
    "y = train[TARGET_NAME]\n",
    "\n",
    "print(X.shape, y.shape)"
   ]
  },
  {
   "cell_type": "markdown",
   "id": "8fc2af25",
   "metadata": {},
   "source": [
    "## Division of training and validation databases \n",
    "\n",
    "Dividindo a variável dependente (y) e independente (X) sendo 70% para treinamento e 30% para validação."
   ]
  },
  {
   "cell_type": "code",
   "execution_count": 10,
   "id": "adefbaa3",
   "metadata": {},
   "outputs": [
    {
     "name": "stdout",
     "output_type": "stream",
     "text": [
      "Train 70%, Valid 30% data: ((3183, 19), (1365, 19)) (3183,) (1365,)\n"
     ]
    }
   ],
   "source": [
    "from sklearn.model_selection import train_test_split\n",
    "\n",
    "# split the data with 30% in validation set\n",
    "X_train, X_valid, y_train, y_valid = train_test_split(X,\n",
    "                                                      y, \n",
    "                                                      stratify = y,\n",
    "                                                      test_size=TEST_SIZE, \n",
    "                                                      random_state=SEED) \n",
    "\n",
    "print(f\"Train 70%, Valid 30% data: {X_train.shape, X_valid.shape}\",\\\n",
    "                                    y_train.shape, y_valid.shape)"
   ]
  },
  {
   "cell_type": "markdown",
   "id": "5ab06c3b",
   "metadata": {},
   "source": [
    "## CatBoostClassifier\n",
    "\n",
    "Treinando o modelo __CatBoostClassifier__ para classificação binária e verificando a métrica __“F1 Score”__."
   ]
  },
  {
   "cell_type": "code",
   "execution_count": 14,
   "id": "69f73469",
   "metadata": {},
   "outputs": [
    {
     "name": "stdout",
     "output_type": "stream",
     "text": [
      "Time Started: 14:06:33\n",
      "\n",
      "F1 Scores: 0.561129\n",
      "\n",
      "Time Elapsed: 0:00:02.689437\n"
     ]
    }
   ],
   "source": [
    "from sklearn.metrics import f1_score\n",
    "from catboost import CatBoostClassifier\n",
    "\n",
    "\n",
    "from timeit import default_timer as timer\n",
    "from datetime import timedelta, datetime\n",
    "\n",
    "\n",
    "# Start Measure time elapsed\n",
    "start = timer()\n",
    "print(f\"Time Started: {datetime.now().strftime('%H:%M:%S')}\\n\")\n",
    "# Code here ...\n",
    "\n",
    "\n",
    "mdl = CatBoostClassifier(random_state=SEED,                          \n",
    "                         verbose=0)\n",
    "\n",
    "mdl.fit(X_train, y_train)\n",
    "\n",
    "preds = mdl.predict(X_valid)\n",
    "\n",
    "print(f\"F1 Scores: {f1_score(y_valid, preds):0.6f}\")\n",
    "\n",
    "\n",
    "# End Measure time elapsed\n",
    "end = timer()\n",
    "print(f'\\nTime Elapsed: {timedelta(seconds = end - start)}')"
   ]
  },
  {
   "cell_type": "markdown",
   "id": "b3bd0809",
   "metadata": {},
   "source": [
    "# Improving Machine Learning Model\n",
    "\n",
    "Aqui vamos tentar melhorar nosso modelo __ML (Machine Learning)__ com algumas técnicas:\n",
    "\n",
    "- Hyperparameter Tuning;\n",
    "- Feature Importance;\n",
    "- Imbalance Data."
   ]
  },
  {
   "cell_type": "markdown",
   "id": "43592cb4",
   "metadata": {},
   "source": [
    "## Hyperparameter Tuning: with Optuna\n",
    "\n",
    "Vamos utilizar a biblioteca __“Optuna”__ para fazer o melhorar os hiperparâmetros do modelo.   \n",
    "Uma das vantagens dessa biblioteca é a possibilidade de salvar os resultados (na pasta “db/”) em um arquivo sql, isso possibilita interromper tune e posteriormente retornamos sem perder todo o trabalho anterior."
   ]
  },
  {
   "cell_type": "code",
   "execution_count": 15,
   "id": "650a3800",
   "metadata": {},
   "outputs": [
    {
     "name": "stderr",
     "output_type": "stream",
     "text": [
      "\u001b[32m[I 2022-09-15 14:06:51,065]\u001b[0m A new study created in RDB with name: catb_parans\u001b[0m\n"
     ]
    },
    {
     "name": "stdout",
     "output_type": "stream",
     "text": [
      "Time Started: 14:06:50\n"
     ]
    },
    {
     "name": "stderr",
     "output_type": "stream",
     "text": [
      "[Parallel(n_jobs=-1)]: Using backend LokyBackend with 16 concurrent workers.\n",
      "[Parallel(n_jobs=-1)]: Using backend LokyBackend with 16 concurrent workers.\n",
      "[Parallel(n_jobs=-1)]: Using backend LokyBackend with 16 concurrent workers.\n",
      "[Parallel(n_jobs=-1)]: Using backend LokyBackend with 16 concurrent workers.\n",
      "[Parallel(n_jobs=-1)]: Using backend LokyBackend with 16 concurrent workers.\n",
      "[Parallel(n_jobs=-1)]: Using backend LokyBackend with 16 concurrent workers.\n",
      "[Parallel(n_jobs=-1)]: Using backend LokyBackend with 16 concurrent workers.\n",
      "[Parallel(n_jobs=-1)]: Using backend LokyBackend with 16 concurrent workers.\n",
      "[Parallel(n_jobs=-1)]: Using backend LokyBackend with 16 concurrent workers.\n",
      "[Parallel(n_jobs=-1)]: Using backend LokyBackend with 16 concurrent workers.\n",
      "[Parallel(n_jobs=-1)]: Using backend LokyBackend with 16 concurrent workers.\n",
      "[Parallel(n_jobs=-1)]: Using backend LokyBackend with 16 concurrent workers.\n",
      "[Parallel(n_jobs=-1)]: Using backend LokyBackend with 16 concurrent workers.\n",
      "[Parallel(n_jobs=-1)]: Using backend LokyBackend with 16 concurrent workers.\n",
      "[Parallel(n_jobs=-1)]: Using backend LokyBackend with 16 concurrent workers.\n",
      "[Parallel(n_jobs=-1)]: Using backend LokyBackend with 16 concurrent workers.\n",
      "[Parallel(n_jobs=-1)]: Done   5 out of   5 | elapsed:    6.8s finished\n",
      "\u001b[33m[W 2022-09-15 14:06:58,890]\u001b[0m Trial 0 failed, because the objective function returned nan.\u001b[0m\n",
      "[Parallel(n_jobs=-1)]: Done   5 out of   5 | elapsed:    6.2s finished\n",
      "[Parallel(n_jobs=-1)]: Using backend LokyBackend with 16 concurrent workers.\n",
      "\u001b[33m[W 2022-09-15 14:06:59,111]\u001b[0m Trial 8 failed, because the objective function returned nan.\u001b[0m\n",
      "[Parallel(n_jobs=-1)]: Done   5 out of   5 | elapsed:    6.7s finished\n",
      "\u001b[33m[W 2022-09-15 14:06:59,161]\u001b[0m Trial 3 failed, because the objective function returned nan.\u001b[0m\n",
      "[Parallel(n_jobs=-1)]: Done   5 out of   5 | elapsed:    6.3s finished\n",
      "\u001b[33m[W 2022-09-15 14:06:59,344]\u001b[0m Trial 10 failed, because the objective function returned nan.\u001b[0m\n",
      "[Parallel(n_jobs=-1)]: Done   5 out of   5 | elapsed:    6.3s finished\n",
      "\u001b[33m[W 2022-09-15 14:06:59,444]\u001b[0m Trial 7 failed, because the objective function returned nan.\u001b[0m\n",
      "[Parallel(n_jobs=-1)]: Done   5 out of   5 | elapsed:    6.8s finished\n",
      "[Parallel(n_jobs=-1)]: Using backend LokyBackend with 16 concurrent workers.\n",
      "[Parallel(n_jobs=-1)]: Done   5 out of   5 | elapsed:    6.8s finished\n",
      "[Parallel(n_jobs=-1)]: Done   5 out of   5 | elapsed:    6.7s finished\n",
      "[Parallel(n_jobs=-1)]: Done   5 out of   5 | elapsed:    6.4s finished\n",
      "[Parallel(n_jobs=-1)]: Done   5 out of   5 | elapsed:    6.7s finished\n",
      "[Parallel(n_jobs=-1)]: Using backend LokyBackend with 16 concurrent workers.\n",
      "\u001b[33m[W 2022-09-15 14:06:59,845]\u001b[0m Trial 9 failed, because the objective function returned nan.\u001b[0m\n",
      "\u001b[32m[I 2022-09-15 14:06:59,899]\u001b[0m Trial 5 finished with value: 0.0 and parameters: {'n_estimators': 50, 'learning_rate': 0.0001, 'max_depth': 2, 'l2_leaf_reg': 10}. Best is trial 1 with value: 0.43886854301838873.\u001b[0m\n",
      "\u001b[32m[I 2022-09-15 14:06:59,954]\u001b[0m Trial 1 finished with value: 0.43886854301838873 and parameters: {'n_estimators': 2, 'learning_rate': 0.01, 'max_depth': 10, 'l2_leaf_reg': 30}. Best is trial 1 with value: 0.43886854301838873.\u001b[0m\n",
      "\u001b[32m[I 2022-09-15 14:07:00,179]\u001b[0m Trial 2 finished with value: 0.0 and parameters: {'n_estimators': 50, 'learning_rate': 0.001, 'max_depth': 2, 'l2_leaf_reg': 2}. Best is trial 1 with value: 0.4783203705160746.\u001b[0m\n",
      "\u001b[32m[I 2022-09-15 14:07:00,382]\u001b[0m Trial 6 finished with value: 0.4783203705160746 and parameters: {'n_estimators': 10, 'learning_rate': 0.001, 'max_depth': 5, 'l2_leaf_reg': 10}. Best is trial 6 with value: 0.4783203705160746.\u001b[0m\n",
      "[Parallel(n_jobs=-1)]: Using backend LokyBackend with 16 concurrent workers.\n",
      "[Parallel(n_jobs=-1)]: Using backend LokyBackend with 16 concurrent workers.\n",
      "[Parallel(n_jobs=-1)]: Done   5 out of   5 | elapsed:    5.4s finished\n",
      "[Parallel(n_jobs=-1)]: Done   5 out of   5 | elapsed:    5.4s finished\n",
      "[Parallel(n_jobs=-1)]: Done   5 out of   5 | elapsed:    5.4s finished\n",
      "[Parallel(n_jobs=-1)]: Using backend LokyBackend with 16 concurrent workers.\n",
      "[Parallel(n_jobs=-1)]: Done   5 out of   5 | elapsed:    1.9s finished\n",
      "[Parallel(n_jobs=-1)]: Done   5 out of   5 | elapsed:    5.5s finished\n",
      "\u001b[33m[W 2022-09-15 14:07:01,142]\u001b[0m Trial 14 failed, because the objective function returned nan.\u001b[0m\n",
      "\u001b[33m[W 2022-09-15 14:07:01,178]\u001b[0m Trial 11 failed, because the objective function returned nan.\u001b[0m\n",
      "[Parallel(n_jobs=-1)]: Using backend LokyBackend with 16 concurrent workers.\n",
      "[Parallel(n_jobs=-1)]: Using backend LokyBackend with 16 concurrent workers.\n",
      "\u001b[33m[W 2022-09-15 14:07:01,276]\u001b[0m Trial 16 failed, because the objective function returned nan.\u001b[0m\n",
      "[Parallel(n_jobs=-1)]: Using backend LokyBackend with 16 concurrent workers.\n",
      "[Parallel(n_jobs=-1)]: Using backend LokyBackend with 16 concurrent workers.\n",
      "[Parallel(n_jobs=-1)]: Done   5 out of   5 | elapsed:    1.8s finished\n",
      "\u001b[32m[I 2022-09-15 14:07:01,545]\u001b[0m Trial 4 finished with value: 0.5473160357203424 and parameters: {'n_estimators': 100, 'learning_rate': None, 'max_depth': 5, 'l2_leaf_reg': 10}. Best is trial 4 with value: 0.5473160357203424.\u001b[0m\n",
      "[Parallel(n_jobs=-1)]: Done   5 out of   5 | elapsed:    0.9s finished\n",
      "\u001b[32m[I 2022-09-15 14:07:01,660]\u001b[0m Trial 15 finished with value: 0.4954596660862206 and parameters: {'n_estimators': 2, 'learning_rate': None, 'max_depth': 10, 'l2_leaf_reg': None}. Best is trial 4 with value: 0.5473160357203424.\u001b[0m\n",
      "[Parallel(n_jobs=-1)]: Done   5 out of   5 | elapsed:    1.8s finished\n",
      "\u001b[33m[W 2022-09-15 14:07:01,798]\u001b[0m Trial 19 failed, because the objective function returned nan.\u001b[0m\n",
      "\u001b[32m[I 2022-09-15 14:07:01,993]\u001b[0m Trial 17 finished with value: 0.003463203463203463 and parameters: {'n_estimators': 50, 'learning_rate': 0.01, 'max_depth': 2, 'l2_leaf_reg': 80}. Best is trial 4 with value: 0.5473160357203424.\u001b[0m\n",
      "[Parallel(n_jobs=-1)]: Done   5 out of   5 | elapsed:    0.9s finished\n",
      "\u001b[32m[I 2022-09-15 14:07:02,140]\u001b[0m Trial 18 finished with value: 0.49151478458577946 and parameters: {'n_estimators': 5, 'learning_rate': 0.001, 'max_depth': 5, 'l2_leaf_reg': 80}. Best is trial 4 with value: 0.5473160357203424.\u001b[0m\n",
      "[Parallel(n_jobs=-1)]: Using backend LokyBackend with 16 concurrent workers.\n",
      "[Parallel(n_jobs=-1)]: Done   5 out of   5 | elapsed:    0.9s finished\n",
      "\u001b[33m[W 2022-09-15 14:07:02,208]\u001b[0m Trial 21 failed, because the objective function returned nan.\u001b[0m\n",
      "[Parallel(n_jobs=-1)]: Using backend LokyBackend with 16 concurrent workers.\n",
      "[Parallel(n_jobs=-1)]: Done   5 out of   5 | elapsed:    0.9s finished\n",
      "[Parallel(n_jobs=-1)]: Using backend LokyBackend with 16 concurrent workers.\n",
      "\u001b[33m[W 2022-09-15 14:07:02,317]\u001b[0m Trial 22 failed, because the objective function returned nan.\u001b[0m\n",
      "\u001b[33m[W 2022-09-15 14:07:02,340]\u001b[0m Trial 23 failed, because the objective function returned nan.\u001b[0m\n",
      "[Parallel(n_jobs=-1)]: Using backend LokyBackend with 16 concurrent workers.\n",
      "[Parallel(n_jobs=-1)]: Done   5 out of   5 | elapsed:    1.7s finished\n",
      "\u001b[32m[I 2022-09-15 14:07:02,660]\u001b[0m Trial 20 finished with value: 0.3716067487936014 and parameters: {'n_estimators': 100, 'learning_rate': 0.01, 'max_depth': 2, 'l2_leaf_reg': 30}. Best is trial 4 with value: 0.5473160357203424.\u001b[0m\n",
      "[Parallel(n_jobs=-1)]: Done   5 out of   5 | elapsed:    4.0s finished\n",
      "[Parallel(n_jobs=-1)]: Done   5 out of   5 | elapsed:    3.3s finished\n",
      "\u001b[33m[W 2022-09-15 14:07:05,575]\u001b[0m Trial 26 failed, because the objective function returned nan.\u001b[0m\n",
      "\u001b[32m[I 2022-09-15 14:07:05,594]\u001b[0m Trial 24 finished with value: 0.5366396631490594 and parameters: {'n_estimators': 100, 'learning_rate': 0.01, 'max_depth': 10, 'l2_leaf_reg': 50}. Best is trial 4 with value: 0.5473160357203424.\u001b[0m\n",
      "[Parallel(n_jobs=-1)]: Done   5 out of   5 | elapsed:    3.3s finished\n",
      "\u001b[33m[W 2022-09-15 14:07:05,682]\u001b[0m Trial 27 failed, because the objective function returned nan.\u001b[0m\n",
      "[Parallel(n_jobs=-1)]: Done   5 out of   5 | elapsed:    3.3s finished\n",
      "\u001b[33m[W 2022-09-15 14:07:05,763]\u001b[0m Trial 28 failed, because the objective function returned nan.\u001b[0m\n",
      "[Parallel(n_jobs=-1)]: Done   5 out of   5 | elapsed:    4.7s finished\n",
      "\u001b[32m[I 2022-09-15 14:07:06,405]\u001b[0m Trial 25 finished with value: 0.5186627232321985 and parameters: {'n_estimators': 100, 'learning_rate': 0.01, 'max_depth': 5, 'l2_leaf_reg': 2}. Best is trial 4 with value: 0.5473160357203424.\u001b[0m\n"
     ]
    },
    {
     "name": "stderr",
     "output_type": "stream",
     "text": [
      "[Parallel(n_jobs=-1)]: Done   5 out of   5 | elapsed:   13.5s finished\n",
      "\u001b[32m[I 2022-09-15 14:07:06,814]\u001b[0m Trial 13 finished with value: 0.5140572944029211 and parameters: {'n_estimators': 500, 'learning_rate': 0.0001, 'max_depth': None, 'l2_leaf_reg': 50}. Best is trial 4 with value: 0.5473160357203424.\u001b[0m\n",
      "[Parallel(n_jobs=-1)]: Done   5 out of   5 | elapsed:   14.2s finished\n",
      "\u001b[32m[I 2022-09-15 14:07:07,330]\u001b[0m Trial 12 finished with value: 0.582778406777624 and parameters: {'n_estimators': 800, 'learning_rate': 0.01, 'max_depth': 5, 'l2_leaf_reg': None}. Best is trial 12 with value: 0.582778406777624.\u001b[0m\n",
      "[Parallel(n_jobs=-1)]: Done   5 out of   5 | elapsed:    7.7s finished\n",
      "\u001b[32m[I 2022-09-15 14:07:10,240]\u001b[0m Trial 29 finished with value: 0.5216519904111145 and parameters: {'n_estimators': 1000, 'learning_rate': 0.001, 'max_depth': 5, 'l2_leaf_reg': 2}. Best is trial 12 with value: 0.582778406777624.\u001b[0m\n"
     ]
    },
    {
     "name": "stdout",
     "output_type": "stream",
     "text": [
      "\n",
      "Time Elapsed: 0:00:19.354257\n",
      "\n",
      "Best score: 0.582778\n",
      "Best parameter:\n",
      "{'l2_leaf_reg': None, 'learning_rate': 0.01, 'max_depth': 5, 'n_estimators': 800}\n"
     ]
    }
   ],
   "source": [
    "from sklearn.model_selection import KFold\n",
    "from sklearn.model_selection import cross_val_score\n",
    "\n",
    "from catboost import CatBoostClassifier\n",
    "\n",
    "import optuna\n",
    "\n",
    "def objective(trial):\n",
    "    \n",
    "    kf = KFold(n_splits=N_FOLDS, \n",
    "                shuffle=True, \n",
    "                random_state=SEED)\n",
    "    \n",
    "    \n",
    "    params = {\n",
    "        \"n_estimators\" : trial.suggest_categorical('n_estimators', [0, 2, 5, 10, 50, 100, 300, 500, 800, 1000, 1200, 1500, None]),        \n",
    "        'learning_rate': trial.suggest_categorical('learning_rate', [1e-4, 1e-3, 1e-2, 1e-1, None]), \n",
    "        'max_depth': trial.suggest_categorical('max_depth', [0, 2, 5, 10, 50, 80, 100, 300, 500, None]),         \n",
    "        'l2_leaf_reg': trial.suggest_categorical('l2_leaf_reg', [0, 2, 5, 10, 30, 50, 80, 100, None])        \n",
    "    } \n",
    "    \n",
    "    mdl = CatBoostClassifier(**params,\n",
    "                             random_state=SEED, \n",
    "                             verbose=0)\n",
    "        \n",
    "    cross_val = cross_val_score(mdl, \n",
    "                            X, \n",
    "                            y, \n",
    "                            cv = kf, \n",
    "                            n_jobs=N_JOBS,\n",
    "                            scoring = 'f1', \n",
    "                            verbose = VERBOSE).mean()\n",
    "    \n",
    "\n",
    "    return cross_val\n",
    "\n",
    "\n",
    "\n",
    "from timeit import default_timer as timer\n",
    "from datetime import timedelta, datetime\n",
    "\n",
    "# Start Measure time elapsed\n",
    "start = timer()\n",
    "print(f\"Time Started: {datetime.now().strftime('%H:%M:%S')}\")\n",
    "# Code here ...\n",
    "\n",
    "db_path = \"db/\"\n",
    "\n",
    "\n",
    "# study = optuna.create_study(direction='maximize')\n",
    "\n",
    "study = optuna.create_study(direction='maximize',\n",
    "                            study_name = \"catb_parans\",\n",
    "                            storage = f\"sqlite:///{db_path}catb_parans.db\",\n",
    "                            load_if_exists = True)\n",
    "\n",
    "study.optimize(objective, \n",
    "               n_trials = N_TRIAL, \n",
    "               timeout = None,\n",
    "               n_jobs=N_JOBS)\n",
    "\n",
    "\n",
    "# End Measure time elapsed\n",
    "end = timer()\n",
    "print(f'\\nTime Elapsed: {timedelta(seconds = end - start)}')\n",
    "\n",
    "\n",
    "print(f\"\\nBest score: {study.best_trial.value:0.6f}\" )\n",
    "print(\"Best parameter:\")\n",
    "print(study.best_trial.params)"
   ]
  },
  {
   "cell_type": "markdown",
   "id": "587cbd99",
   "metadata": {},
   "source": [
    "## Feature Importance\n",
    "\n",
    "Agora poderemos realizar o treinamento do modelo com os melhores parâmetros, em seguida utilizar atributo __“feature_importances_”__ do modelo, no caso __“CatBoostClassifier”__ para verificar quais as melhores features (colunas)."
   ]
  },
  {
   "cell_type": "code",
   "execution_count": 11,
   "id": "3dff26ff",
   "metadata": {},
   "outputs": [
    {
     "name": "stdout",
     "output_type": "stream",
     "text": [
      "Time Started: 13:05:23\n",
      "\n",
      "F1 Scores: 0.588050\n",
      "\n",
      "Time Elapsed: 0:00:02.104413\n"
     ]
    }
   ],
   "source": [
    "from sklearn.metrics import f1_score\n",
    "from catboost import CatBoostClassifier\n",
    "\n",
    "\n",
    "from timeit import default_timer as timer\n",
    "from datetime import timedelta, datetime\n",
    "\n",
    "\n",
    "# Start Measure time elapsed\n",
    "start = timer()\n",
    "print(f\"Time Started: {datetime.now().strftime('%H:%M:%S')}\\n\")\n",
    "# Code here ...\n",
    "\n",
    "# params = study.best_trial.params\n",
    "params = {'l2_leaf_reg': None, 'learning_rate': 0.01, \n",
    "          'max_depth': 5, 'n_estimators': 800}\n",
    "\n",
    "mdl = CatBoostClassifier(**params,\n",
    "                         random_state=SEED,                          \n",
    "                         verbose=0)\n",
    "\n",
    "mdl.fit(X_train, y_train)\n",
    "\n",
    "preds = mdl.predict(X_valid)\n",
    "\n",
    "print(f\"F1 Scores: {f1_score(y_valid, preds):0.6f}\")\n",
    "\n",
    "\n",
    "# End Measure time elapsed\n",
    "end = timer()\n",
    "print(f'\\nTime Elapsed: {timedelta(seconds = end - start)}')"
   ]
  },
  {
   "cell_type": "markdown",
   "id": "c403d549",
   "metadata": {},
   "source": [
    "Verificando as melhores features (colunas) para o nosso modelo."
   ]
  },
  {
   "cell_type": "code",
   "execution_count": 12,
   "id": "f560c155",
   "metadata": {},
   "outputs": [
    {
     "data": {
      "text/plain": [
       "array([ 2.12237082,  1.682083  ,  0.52951425,  1.70855037, 13.77836393,\n",
       "        0.5675707 ,  4.07316913, 10.85886265,  5.28864355,  2.59973294,\n",
       "        2.96545961,  7.48053645,  3.6825782 ,  3.72166597, 18.206688  ,\n",
       "        3.94967033,  5.20407917,  6.5522868 ,  5.02817412])"
      ]
     },
     "execution_count": 12,
     "metadata": {},
     "output_type": "execute_result"
    }
   ],
   "source": [
    "mdl.feature_importances_"
   ]
  },
  {
   "cell_type": "markdown",
   "id": "39acb710",
   "metadata": {},
   "source": [
    "O gráfico com as 19 melhores features do modelo."
   ]
  },
  {
   "cell_type": "code",
   "execution_count": 13,
   "id": "d0b7dcbb",
   "metadata": {},
   "outputs": [
    {
     "data": {
      "image/png": "[encoded data removed]",
      "text/plain": [
       "<Figure size 576x864 with 1 Axes>"
      ]
     },
     "metadata": {
      "needs_background": "light"
     },
     "output_type": "display_data"
    }
   ],
   "source": [
    "#plot graph of feature importances for better visualization\n",
    "plt.figure(figsize=(8, 12))\n",
    "feat_importances = pd.Series(mdl.feature_importances_, index=X.columns)\n",
    "feat_importances.nlargest(19).plot(kind='barh')\n",
    "plt;"
   ]
  },
  {
   "cell_type": "markdown",
   "id": "0385f10d",
   "metadata": {},
   "source": [
    "Vamos trainar o modelo com diferentes quantidades de features [3, 6, 8, 9, 12, 13, 14, 15, 16]. O melhor valor do “F1 Scores” foi para 15 melhores features do __Feature Importance__."
   ]
  },
  {
   "cell_type": "code",
   "execution_count": 34,
   "id": "f6da04f7",
   "metadata": {},
   "outputs": [],
   "source": [
    "feats = []\n",
    "num_cols = [3, 6, 8, 9, 12, 13, 14, 15, 16]\n",
    "\n",
    "for n_feats in num_cols:\n",
    "    feat = list(feat_importances.nlargest(n_feats).index)\n",
    "#     print(len(feat))\n",
    "    feats.append(feat)\n",
    "                \n",
    "# feats                "
   ]
  },
  {
   "cell_type": "code",
   "execution_count": 35,
   "id": "a8d5cf22",
   "metadata": {},
   "outputs": [
    {
     "name": "stdout",
     "output_type": "stream",
     "text": [
      "Time Started: 15:06:02\n",
      "\n"
     ]
    },
    {
     "data": {
      "application/vnd.jupyter.widget-view+json": {
       "model_id": "3de965c9031b4027950b0dbe8b94bd3f",
       "version_major": 2,
       "version_minor": 0
      },
      "text/plain": [
       "0it [00:00, ?it/s]"
      ]
     },
     "metadata": {},
     "output_type": "display_data"
    },
    {
     "name": "stdout",
     "output_type": "stream",
     "text": [
      "Index: 0 \t | Len features: 3 \t | F1 Scores: 0.563077\n",
      "Index: 1 \t | Len features: 6 \t | F1 Scores: 0.542636\n",
      "Index: 2 \t | Len features: 8 \t | F1 Scores: 0.567901\n",
      "Index: 3 \t | Len features: 9 \t | F1 Scores: 0.566616\n",
      "Index: 4 \t | Len features: 12 \t | F1 Scores: 0.601852\n",
      "Index: 5 \t | Len features: 13 \t | F1 Scores: 0.602151\n",
      "Index: 6 \t | Len features: 14 \t | F1 Scores: 0.595679\n",
      "Index: 7 \t | Len features: 15 \t | F1 Scores: 0.607088\n",
      "Index: 8 \t | Len features: 16 \t | F1 Scores: 0.584375\n",
      "\n",
      "Time Elapsed: 0:00:15.892949\n"
     ]
    }
   ],
   "source": [
    "from timeit import default_timer as timer\n",
    "from datetime import timedelta, datetime\n",
    "\n",
    "\n",
    "# Start Measure time elapsed\n",
    "start = timer()\n",
    "print(f\"Time Started: {datetime.now().strftime('%H:%M:%S')}\\n\")\n",
    "# Code here ...\n",
    "\n",
    "for idx, feat in tqdm(enumerate(feats)):\n",
    "    mdl.fit(X_train[feat], y_train)\n",
    "\n",
    "    preds = mdl.predict(X_valid[feat])\n",
    "\n",
    "    print(f\"Index: {idx} \\t | Len of features: {len(feat)} \\t | F1 Scores: {f1_score(y_valid, preds):0.6f}\")\n",
    "    \n",
    "\n",
    "# End Measure time elapsed\n",
    "end = timer()\n",
    "print(f'\\nTime Elapsed: {timedelta(seconds = end - start)}')"
   ]
  },
  {
   "cell_type": "markdown",
   "id": "991f9b32",
   "metadata": {},
   "source": [
    "Selecionando as 15 melhores features do __Feature Importance__."
   ]
  },
  {
   "cell_type": "code",
   "execution_count": 16,
   "id": "39bba95a",
   "metadata": {},
   "outputs": [
    {
     "data": {
      "text/plain": [
       "(15,\n",
       " ['CONTRACT',\n",
       "  'TENURE',\n",
       "  'INTERNETSERVICE',\n",
       "  'TECHSUPPORT',\n",
       "  'MONTHLYCHARGES',\n",
       "  'ONLINESECURITY',\n",
       "  'PAYMENTMETHOD',\n",
       "  'TOTALCHARGES',\n",
       "  'MULTIPLELINES',\n",
       "  'PAPERLESSBILLING',\n",
       "  'STREAMINGMOVIES',\n",
       "  'STREAMINGTV',\n",
       "  'DEVICEPROTECTION',\n",
       "  'ONLINEBACKUP',\n",
       "  'GENDER'])"
      ]
     },
     "execution_count": 16,
     "metadata": {},
     "output_type": "execute_result"
    }
   ],
   "source": [
    "idx = 7\n",
    "\n",
    "feat_import = feats[idx]\n",
    "len(feats[idx]), feats[idx]"
   ]
  },
  {
   "cell_type": "markdown",
   "id": "824b364c",
   "metadata": {},
   "source": [
    "Realizando o treinamento do modelo com as melhores features."
   ]
  },
  {
   "cell_type": "code",
   "execution_count": 18,
   "id": "9dc4c041",
   "metadata": {},
   "outputs": [
    {
     "name": "stdout",
     "output_type": "stream",
     "text": [
      "Time Started: 13:07:10\n",
      "\n",
      "F1 Scores: 0.607088\n",
      "\n",
      "Time Elapsed: 0:00:01.768110\n"
     ]
    }
   ],
   "source": [
    "from sklearn.metrics import f1_score\n",
    "from catboost import CatBoostClassifier\n",
    "\n",
    "\n",
    "from timeit import default_timer as timer\n",
    "from datetime import timedelta, datetime\n",
    "\n",
    "\n",
    "# Start Measure time elapsed\n",
    "start = timer()\n",
    "print(f\"Time Started: {datetime.now().strftime('%H:%M:%S')}\\n\")\n",
    "# Code here ...\n",
    "\n",
    "\n",
    "# params = study.best_trial.params\n",
    "\n",
    "mdl = CatBoostClassifier(**params,\n",
    "                         random_state=SEED,                          \n",
    "                         verbose=0)\n",
    "\n",
    "mdl.fit(X_train[feat_import], y_train)\n",
    "\n",
    "preds = mdl.predict(X_valid[feat_import])\n",
    "\n",
    "print(f\"F1 Scores: {f1_score(y_valid, preds):0.6f}\")\n",
    "\n",
    "\n",
    "# End Measure time elapsed\n",
    "end = timer()\n",
    "print(f'\\nTime Elapsed: {timedelta(seconds = end - start)}')"
   ]
  },
  {
   "cell_type": "code",
   "execution_count": 31,
   "id": "9c0e072d",
   "metadata": {},
   "outputs": [
    {
     "data": {
      "text/plain": [
       "No     3337\n",
       "Yes    1211\n",
       "Name: CHURN, dtype: int64"
      ]
     },
     "execution_count": 31,
     "metadata": {},
     "output_type": "execute_result"
    }
   ],
   "source": [
    "data[TARGET_NAME].value_counts()"
   ]
  },
  {
   "cell_type": "code",
   "execution_count": 32,
   "id": "d05a580f",
   "metadata": {},
   "outputs": [
    {
     "data": {
      "text/plain": [
       "4548"
      ]
     },
     "execution_count": 32,
     "metadata": {},
     "output_type": "execute_result"
    }
   ],
   "source": [
    "(3337 + 1211)"
   ]
  },
  {
   "cell_type": "markdown",
   "id": "3adb58c8",
   "metadata": {},
   "source": [
    "## Imbalance Data\n",
    "\n",
    "Como foi observado na parte dos gráficos a variável alvo a coluna “CHURN ”, está com os dados desbalanceados. Existe muito mais valores do tipo “No” do que variáveis do tipo “Yes”. \n",
    "\n",
    "Vamos utilizar a técnica de Oversampling com a biblioteca “SMOTE” para tratar o desbalanceamento dos dados.  \n",
    "__Oversampling (sobreamostragem)__ aumentar artificialmente as observações da classe minoritária."
   ]
  },
  {
   "cell_type": "code",
   "execution_count": 19,
   "id": "ae36c98f",
   "metadata": {},
   "outputs": [
    {
     "name": "stdout",
     "output_type": "stream",
     "text": [
      "Oversampling: X_train_over = (4670, 19), y_train_over = (4670,)\n",
      "\n"
     ]
    }
   ],
   "source": [
    "from imblearn.over_sampling import SMOTE\n",
    "\n",
    "smote = SMOTE(sampling_strategy='minority')\n",
    "X_train_over, y_train_over = smote.fit_resample(X_train, y_train)\n",
    "\n",
    "print(f\"Oversampling: X_train_over = {X_train_over.shape}, y_train_over = {y_train_over.shape}\\n\")"
   ]
  },
  {
   "cell_type": "code",
   "execution_count": 30,
   "id": "a8512af9",
   "metadata": {},
   "outputs": [
    {
     "data": {
      "image/png": "[encoded data removed]",
      "text/plain": [
       "<Figure size 1080x432 with 2 Axes>"
      ]
     },
     "metadata": {
      "needs_background": "light"
     },
     "output_type": "display_data"
    }
   ],
   "source": [
    "plt.figure(figsize=(15, 6))\n",
    "\n",
    "plt.subplot(1,2,1)\n",
    "sns.countplot(x=TARGET_NAME, data=data)\n",
    "plt.title(\"Original Target\")\n",
    "plt.subplot(1,2,2)\n",
    "sns.countplot(x=y_train_over)\n",
    "plt.title(\"Oversampling Target (SMOTE)\")\n",
    "plt;"
   ]
  },
  {
   "cell_type": "markdown",
   "id": "edfa6353",
   "metadata": {},
   "source": [
    "Obtemos um resultado melhor com __Oversampling__. "
   ]
  },
  {
   "cell_type": "code",
   "execution_count": 22,
   "id": "6f2c38f9",
   "metadata": {},
   "outputs": [
    {
     "name": "stdout",
     "output_type": "stream",
     "text": [
      "Time Started: 13:09:34\n",
      "\n",
      "F1 Scores: 0.618926\n",
      "\n",
      "Time Elapsed: 0:00:02.196531\n"
     ]
    }
   ],
   "source": [
    "from sklearn.metrics import f1_score\n",
    "from catboost import CatBoostClassifier\n",
    "\n",
    "\n",
    "from timeit import default_timer as timer\n",
    "from datetime import timedelta, datetime\n",
    "\n",
    "\n",
    "# Start Measure time elapsed\n",
    "start = timer()\n",
    "print(f\"Time Started: {datetime.now().strftime('%H:%M:%S')}\\n\")\n",
    "# Code here ...\n",
    "\n",
    "# params = study.best_trial.params\n",
    "\n",
    "mdl = CatBoostClassifier(**params,\n",
    "                         random_state=SEED,                          \n",
    "                         verbose=0)\n",
    "\n",
    "mdl.fit(X_train_over[feat_import], y_train_over)\n",
    "\n",
    "preds = mdl.predict(X_valid[feat_import])\n",
    "\n",
    "print(f\"F1 Scores: {f1_score(y_valid, preds):0.6f}\")\n",
    "\n",
    "\n",
    "# End Measure time elapsed\n",
    "end = timer()\n",
    "print(f'\\nTime Elapsed: {timedelta(seconds = end - start)}')"
   ]
  },
  {
   "cell_type": "markdown",
   "id": "82d1d0eb",
   "metadata": {},
   "source": [
    "# Save Model\n",
    "\n",
    "Salvando o modelo treinado com a biblioteca __“joblib”__."
   ]
  },
  {
   "cell_type": "code",
   "execution_count": 41,
   "id": "dd017492",
   "metadata": {},
   "outputs": [
    {
     "data": {
      "text/plain": [
       "['models/catboots_15_9_2022.pkl.z']"
      ]
     },
     "execution_count": 41,
     "metadata": {},
     "output_type": "execute_result"
    }
   ],
   "source": [
    "import joblib as jb\n",
    "from datetime import datetime\n",
    "\n",
    "day = datetime.now().day\n",
    "month = datetime.now().month\n",
    "year = datetime.now().year\n",
    "\n",
    "name_mdl = \"catboots\"\n",
    "\n",
    "path_mdl = f\"models/{name_mdl}_{day}_{month}_{year}.pkl.z\"\n",
    "\n",
    "jb.dump(mdl, Path+path_mdl)"
   ]
  },
  {
   "cell_type": "markdown",
   "id": "cf1f7184",
   "metadata": {},
   "source": [
    "# Conclusão\n",
    "\n",
    "\n",
    "Como podemos ver, nosso melhor modelo o __CatBoostClassifier__ rodando com o pré-processamento e os parâmetros default conseguimos um __F1 Score__ de 0.561129. Utilizando algumas técnicas de ML como __Hyperparameter Tuning, Feature Importance e Imbalance Data__ atingimos o valor de 0.618926. Uma melhora de 10,3%.\n",
    "\n",
    "O objetivo deste artigo era demonstrar o processo de trabalho de __Machine Learning__ usando algumas técnicas do dia a dia de um Cientista de Dados em nível iniciante. \n",
    "\n",
    "Quem puder encontrar inconsistências e formas de melhorar esse artigo, basta entrar em contato."
   ]
  },
  {
   "cell_type": "code",
   "execution_count": 1,
   "id": "4cda3ee2",
   "metadata": {},
   "outputs": [
    {
     "data": {
      "text/plain": [
       "0.10300127065255937"
      ]
     },
     "execution_count": 1,
     "metadata": {},
     "output_type": "execute_result"
    }
   ],
   "source": [
    "score = 0.561129\n",
    "score_tune =  0.618926\n",
    "\n",
    "(score_tune  / score) - 1"
   ]
  }
 ],
 "metadata": {
  "kernelspec": {
   "display_name": "Python 3 (ipykernel)",
   "language": "python",
   "name": "python3"
  },
  "language_info": {
   "codemirror_mode": {
    "name": "ipython",
    "version": 3
   },
   "file_extension": ".py",
   "mimetype": "text/x-python",
   "name": "python",
   "nbconvert_exporter": "python",
   "pygments_lexer": "ipython3",
   "version": "3.9.7"
  }
 },
 "nbformat": 4,
 "nbformat_minor": 5
}
